{
 "cells": [
  {
   "cell_type": "code",
   "execution_count": 332,
   "id": "e61891d4-6dfc-42f6-9ae7-609064ade2d9",
   "metadata": {},
   "outputs": [],
   "source": [
    "import random"
   ]
  },
  {
   "cell_type": "code",
   "execution_count": 333,
   "id": "35e03cdc-285f-456a-9e5f-a69310c90da3",
   "metadata": {},
   "outputs": [],
   "source": [
    "def generate_random_concept_h():\n",
    "    p = random.randint(0, 100)\n",
    "    q = random.randint(0, 100)\n",
    "    r = random.randint(0, 100)\n",
    "    s = random.randint(0, 100)\n",
    "    return [ min(p, q), max(p, q), min(r, s), max(r, s) ]"
   ]
  },
  {
   "cell_type": "code",
   "execution_count": 334,
   "id": "ffabbd86-03ba-4014-a640-49f25670929c",
   "metadata": {},
   "outputs": [],
   "source": [
    "def generate_dataset(n):\n",
    "    dataset=[]\n",
    "    while(n>0):\n",
    "        x = random.randint(0, 100)\n",
    "        y = random.randint(0, 100)\n",
    "        dataset.append([x,y])\n",
    "        n-=1\n",
    "    return dataset"
   ]
  },
  {
   "cell_type": "code",
   "execution_count": 335,
   "id": "63bf4560-fb07-46aa-ab89-10cd1748fd86",
   "metadata": {},
   "outputs": [],
   "source": [
    "def predicate(x, y, h_parameters):\n",
    "    p = h_parameters[0]\n",
    "    q = h_parameters[1]\n",
    "    r = h_parameters[2]\n",
    "    s = h_parameters[3]\n",
    "    if p <= x and x <= q and r <= y and y <= s:\n",
    "        return 1\n",
    "    return 0"
   ]
  },
  {
   "cell_type": "code",
   "execution_count": 336,
   "id": "4e6d9eed-6400-4dc5-b162-a5e5f0a5b429",
   "metadata": {},
   "outputs": [],
   "source": [
    "def labeling_function(dataset, h_parameters):\n",
    "    labeled_dataset=[]\n",
    "    for data_instance in dataset:\n",
    "        x = data_instance[0]\n",
    "        y = data_instance[1]\n",
    "        fxy = predicate(x, y, h_parameters)\n",
    "        labeled_dataset.append([x, y, fxy])\n",
    "    return labeled_dataset"
   ]
  },
  {
   "cell_type": "code",
   "execution_count": 337,
   "id": "ad4c3f1c-5c55-4f48-b154-9c4232b36dc3",
   "metadata": {},
   "outputs": [],
   "source": [
    "def generate_hypothesis_h1(labeled_dataset):\n",
    "    p_pred=100\n",
    "    q_pred=0\n",
    "    r_pred=100\n",
    "    s_pred=0\n",
    "    for dataset_instance in labeled_dataset:\n",
    "        if dataset_instance[2]==1:\n",
    "            p_pred = min(p_pred,dataset_instance[0])\n",
    "            q_pred = max(q_pred,dataset_instance[0])\n",
    "            r_pred = min(r_pred,dataset_instance[1])\n",
    "            s_pred = max(s_pred,dataset_instance[1])\n",
    "    return [p_pred, q_pred, r_pred, s_pred]"
   ]
  },
  {
   "cell_type": "code",
   "execution_count": 338,
   "id": "d245bc5a-0dba-4e92-bcbc-a32ef36d0ddd",
   "metadata": {},
   "outputs": [],
   "source": [
    "def calculate_emperical_error(hypothesis_parameter, labeled_dataset):\n",
    "    error=0\n",
    "    predicted_label_dataset = labeling_function(labeled_dataset, hypothesis_parameter)\n",
    "    size = len(labeled_dataset)\n",
    "    for i in range(size):\n",
    "        if predicted_label_dataset[2] != labeled_dataset[2]:\n",
    "            error+=1;\n",
    "    return error\n",
    "    "
   ]
  },
  {
   "cell_type": "code",
   "execution_count": 339,
   "id": "d719531e-21db-40bb-921c-413768670cfc",
   "metadata": {
    "scrolled": true
   },
   "outputs": [
    {
     "name": "stdout",
     "output_type": "stream",
     "text": [
      "Random Concept h:\n",
      "p =  30\n",
      "q =  75\n",
      "r =  16\n",
      "s =  69\n"
     ]
    }
   ],
   "source": [
    "random.seed(3)\n",
    "random_concept_h_parameter = generate_random_concept_h()\n",
    "print(\"Random Concept h:\")\n",
    "print(\"p = \", random_concept_h_parameter[0])\n",
    "print(\"q = \", random_concept_h_parameter[1])\n",
    "print(\"r = \", random_concept_h_parameter[2])\n",
    "print(\"s = \", random_concept_h_parameter[3])"
   ]
  },
  {
   "cell_type": "code",
   "execution_count": 340,
   "id": "8ad4c8a5-695e-48bd-85db-11aea863d453",
   "metadata": {},
   "outputs": [
    {
     "name": "stdout",
     "output_type": "stream",
     "text": [
      "[[47, 77], [60, 80], [74, 8], [77, 1], [60, 33], [70, 29], [24, 91], [60, 69], [70, 60], [50, 81], [19, 29], [81, 19], [66, 49], [94, 1], [85, 99], [8, 20], [97, 75], [5, 38], [99, 3], [34, 60], [76, 92], [49, 91], [100, 54], [50, 93], [73, 56], [17, 46], [12, 4], [17, 63], [27, 33], [86, 55], [99, 80], [38, 53], [64, 49], [73, 44], [68, 74], [52, 74], [29, 43], [87, 3], [35, 77], [85, 89], [20, 89], [41, 69], [73, 72], [13, 91], [83, 27], [81, 73], [34, 36], [15, 8], [61, 81], [61, 11], [44, 8], [52, 19], [2, 37], [54, 98], [53, 15], [5, 77], [78, 97], [5, 48], [91, 75], [42, 70], [35, 64], [30, 4], [39, 0], [9, 13], [76, 68], [4, 25], [52, 37], [78, 33], [19, 88], [5, 43], [40, 46], [17, 48], [48, 58], [66, 49], [82, 76], [87, 71], [13, 79], [64, 34], [55, 81], [92, 91], [30, 38], [55, 33], [66, 38], [70, 43], [1, 100], [53, 74], [40, 2], [48, 78], [75, 80], [17, 7], [81, 80], [42, 59], [45, 86], [45, 77], [90, 35], [94, 62], [2, 75], [7, 86], [2, 47], [32, 80]]\n"
     ]
    }
   ],
   "source": [
    "dataset100 = generate_dataset(100)\n",
    "print(dataset100)"
   ]
  },
  {
   "cell_type": "code",
   "execution_count": 341,
   "id": "f44aadf7-ede6-4a0f-a790-4afe23f15f0e",
   "metadata": {},
   "outputs": [
    {
     "name": "stdout",
     "output_type": "stream",
     "text": [
      "[[47, 77, 0], [60, 80, 0], [74, 8, 0], [77, 1, 0], [60, 33, 1], [70, 29, 1], [24, 91, 0], [60, 69, 1], [70, 60, 1], [50, 81, 0], [19, 29, 0], [81, 19, 0], [66, 49, 1], [94, 1, 0], [85, 99, 0], [8, 20, 0], [97, 75, 0], [5, 38, 0], [99, 3, 0], [34, 60, 1], [76, 92, 0], [49, 91, 0], [100, 54, 0], [50, 93, 0], [73, 56, 1], [17, 46, 0], [12, 4, 0], [17, 63, 0], [27, 33, 0], [86, 55, 0], [99, 80, 0], [38, 53, 1], [64, 49, 1], [73, 44, 1], [68, 74, 0], [52, 74, 0], [29, 43, 0], [87, 3, 0], [35, 77, 0], [85, 89, 0], [20, 89, 0], [41, 69, 1], [73, 72, 0], [13, 91, 0], [83, 27, 0], [81, 73, 0], [34, 36, 1], [15, 8, 0], [61, 81, 0], [61, 11, 0], [44, 8, 0], [52, 19, 1], [2, 37, 0], [54, 98, 0], [53, 15, 0], [5, 77, 0], [78, 97, 0], [5, 48, 0], [91, 75, 0], [42, 70, 0], [35, 64, 1], [30, 4, 0], [39, 0, 0], [9, 13, 0], [76, 68, 0], [4, 25, 0], [52, 37, 1], [78, 33, 0], [19, 88, 0], [5, 43, 0], [40, 46, 1], [17, 48, 0], [48, 58, 1], [66, 49, 1], [82, 76, 0], [87, 71, 0], [13, 79, 0], [64, 34, 1], [55, 81, 0], [92, 91, 0], [30, 38, 1], [55, 33, 1], [66, 38, 1], [70, 43, 1], [1, 100, 0], [53, 74, 0], [40, 2, 0], [48, 78, 0], [75, 80, 0], [17, 7, 0], [81, 80, 0], [42, 59, 1], [45, 86, 0], [45, 77, 0], [90, 35, 0], [94, 62, 0], [2, 75, 0], [7, 86, 0], [2, 47, 0], [32, 80, 0]]\n",
      "76\n",
      "24\n"
     ]
    }
   ],
   "source": [
    "labeled_dataset100 = labeling_function(dataset100, random_concept_h_parameter)\n",
    "print(labeled_dataset100)\n",
    "count0=0\n",
    "count1=0\n",
    "for data_instance in labeled_dataset100:\n",
    "    if data_instance[2]==1:\n",
    "        count1+=1\n",
    "    else:\n",
    "        count0+=1\n",
    "print(count0)\n",
    "print(count1)"
   ]
  },
  {
   "cell_type": "code",
   "execution_count": 342,
   "id": "462af7b3-4949-4b3b-a002-89306f5037bf",
   "metadata": {},
   "outputs": [
    {
     "name": "stdout",
     "output_type": "stream",
     "text": [
      "Hypothesis h1:\n",
      "predicted p=  30\n",
      "predicted q =  73\n",
      "predicted r =  19\n",
      "predicted s =  69\n",
      "[[47, 77, 0], [60, 80, 0], [74, 8, 0], [77, 1, 0], [60, 33, 1], [70, 29, 1], [24, 91, 0], [60, 69, 1], [70, 60, 1], [50, 81, 0], [19, 29, 0], [81, 19, 0], [66, 49, 1], [94, 1, 0], [85, 99, 0], [8, 20, 0], [97, 75, 0], [5, 38, 0], [99, 3, 0], [34, 60, 1], [76, 92, 0], [49, 91, 0], [100, 54, 0], [50, 93, 0], [73, 56, 1], [17, 46, 0], [12, 4, 0], [17, 63, 0], [27, 33, 0], [86, 55, 0], [99, 80, 0], [38, 53, 1], [64, 49, 1], [73, 44, 1], [68, 74, 0], [52, 74, 0], [29, 43, 0], [87, 3, 0], [35, 77, 0], [85, 89, 0], [20, 89, 0], [41, 69, 1], [73, 72, 0], [13, 91, 0], [83, 27, 0], [81, 73, 0], [34, 36, 1], [15, 8, 0], [61, 81, 0], [61, 11, 0], [44, 8, 0], [52, 19, 1], [2, 37, 0], [54, 98, 0], [53, 15, 0], [5, 77, 0], [78, 97, 0], [5, 48, 0], [91, 75, 0], [42, 70, 0], [35, 64, 1], [30, 4, 0], [39, 0, 0], [9, 13, 0], [76, 68, 0], [4, 25, 0], [52, 37, 1], [78, 33, 0], [19, 88, 0], [5, 43, 0], [40, 46, 1], [17, 48, 0], [48, 58, 1], [66, 49, 1], [82, 76, 0], [87, 71, 0], [13, 79, 0], [64, 34, 1], [55, 81, 0], [92, 91, 0], [30, 38, 1], [55, 33, 1], [66, 38, 1], [70, 43, 1], [1, 100, 0], [53, 74, 0], [40, 2, 0], [48, 78, 0], [75, 80, 0], [17, 7, 0], [81, 80, 0], [42, 59, 1], [45, 86, 0], [45, 77, 0], [90, 35, 0], [94, 62, 0], [2, 75, 0], [7, 86, 0], [2, 47, 0], [32, 80, 0]]\n"
     ]
    }
   ],
   "source": [
    "hypothesis_h1_parameter = generate_hypothesis_h1(labeled_dataset100)\n",
    "print(\"Hypothesis h1:\")\n",
    "print(\"predicted p= \", hypothesis_h1_parameter[0])\n",
    "print(\"predicted q = \", hypothesis_h1_parameter[1])\n",
    "print(\"predicted r = \", hypothesis_h1_parameter[2])\n",
    "print(\"predicted s = \", hypothesis_h1_parameter[3])\n",
    "labeled_dataset101 = labeling_function(dataset100, hypothesis_h1_parameter)\n",
    "print(labeled_dataset100)"
   ]
  },
  {
   "cell_type": "code",
   "execution_count": 343,
   "id": "f1405ca7-e792-4230-83ad-2b79fbe00396",
   "metadata": {},
   "outputs": [
    {
     "name": "stdout",
     "output_type": "stream",
     "text": [
      "0\n"
     ]
    }
   ],
   "source": [
    "emperical_error= calculate_emperical_error(hypothesis_h1_parameter,labeled_dataset100)\n",
    "print(emperical_error)"
   ]
  }
 ],
 "metadata": {
  "kernelspec": {
   "display_name": "Python 3 (ipykernel)",
   "language": "python",
   "name": "python3"
  },
  "language_info": {
   "codemirror_mode": {
    "name": "ipython",
    "version": 3
   },
   "file_extension": ".py",
   "mimetype": "text/x-python",
   "name": "python",
   "nbconvert_exporter": "python",
   "pygments_lexer": "ipython3",
   "version": "3.10.12"
  }
 },
 "nbformat": 4,
 "nbformat_minor": 5
}
