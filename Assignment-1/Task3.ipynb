{
 "cells": [
  {
   "cell_type": "code",
   "execution_count": 102,
   "id": "e61891d4-6dfc-42f6-9ae7-609064ade2d9",
   "metadata": {},
   "outputs": [],
   "source": [
    "import random"
   ]
  },
  {
   "cell_type": "code",
   "execution_count": 103,
   "id": "35e03cdc-285f-456a-9e5f-a69310c90da3",
   "metadata": {},
   "outputs": [],
   "source": [
    "def generate_random_concept_h():\n",
    "    p = random.randint(0, 100)\n",
    "    q = random.randint(0, 100)\n",
    "    r = random.randint(0, 100)\n",
    "    s = random.randint(0, 100)\n",
    "    return [ min(p, q), max(p, q), min(r, s), max(r, s) ]"
   ]
  },
  {
   "cell_type": "code",
   "execution_count": 104,
   "id": "ffabbd86-03ba-4014-a640-49f25670929c",
   "metadata": {},
   "outputs": [],
   "source": [
    "def generate_dataset(n):\n",
    "    dataset=[]\n",
    "    while(n>0):\n",
    "        x = random.randint(0, 100)\n",
    "        y = random.randint(0, 100)\n",
    "        dataset.append([x,y])\n",
    "        n-=1\n",
    "    return dataset"
   ]
  },
  {
   "cell_type": "code",
   "execution_count": 105,
   "id": "63bf4560-fb07-46aa-ab89-10cd1748fd86",
   "metadata": {},
   "outputs": [],
   "source": [
    "def predicate(x,y,random_concept_h_parameter):\n",
    "    p = random_concept_h_parameter[0]\n",
    "    q = random_concept_h_parameter[1]\n",
    "    r = random_concept_h_parameter[2]\n",
    "    s = random_concept_h_parameter[3]\n",
    "    if p <= x and x <= q and r <= y and y <= s:\n",
    "        return 1\n",
    "    return 0"
   ]
  },
  {
   "cell_type": "code",
   "execution_count": 106,
   "id": "4e6d9eed-6400-4dc5-b162-a5e5f0a5b429",
   "metadata": {},
   "outputs": [],
   "source": [
    "def labeling_function(dataset, random_concept_h_parameter):\n",
    "    labeled_dataset=[]\n",
    "    for data_instance in dataset:\n",
    "        x = data_instance[0]\n",
    "        y = data_instance[1]\n",
    "        fxy = predicate(x, y, random_concept_h_parameter)\n",
    "        labeled_dataset.append([x, y, fxy])\n",
    "    return labeled_dataset\n",
    "        "
   ]
  },
  {
   "cell_type": "code",
   "execution_count": 107,
   "id": "d719531e-21db-40bb-921c-413768670cfc",
   "metadata": {},
   "outputs": [
    {
     "name": "stdout",
     "output_type": "stream",
     "text": [
      "Random Concept h:\n",
      "p =  17\n",
      "q =  72\n",
      "r =  8\n",
      "s =  97\n"
     ]
    }
   ],
   "source": [
    "random.seed(1)\n",
    "random_concept_h_parameter = generate_random_concept_h()\n",
    "print(\"Random Concept h:\")\n",
    "print(\"p = \", random_concept_h_parameter[0])\n",
    "print(\"q = \", random_concept_h_parameter[1])\n",
    "print(\"r = \", random_concept_h_parameter[2])\n",
    "print(\"s = \", random_concept_h_parameter[3])"
   ]
  },
  {
   "cell_type": "code",
   "execution_count": 108,
   "id": "8ad4c8a5-695e-48bd-85db-11aea863d453",
   "metadata": {},
   "outputs": [
    {
     "name": "stdout",
     "output_type": "stream",
     "text": [
      "[[32, 15], [63, 97], [57, 60], [83, 48], [100, 26], [12, 62], [3, 49], [55, 77], [97, 98], [0, 89], [57, 34], [92, 29], [75, 13], [40, 3], [2, 3], [83, 69], [1, 48], [87, 27], [54, 92], [3, 67], [28, 97], [56, 63], [70, 29], [44, 29], [86, 28], [97, 58], [37, 2], [53, 71], [82, 12], [23, 80], [92, 37], [15, 95], [42, 92], [91, 64], [54, 64], [85, 24], [38, 36], [75, 63], [64, 50], [75, 4], [61, 31], [95, 51], [53, 85], [22, 46], [70, 89], [99, 86], [94, 47], [11, 56], [84, 65], [13, 99], [20, 66], [50, 47], [62, 93], [3, 60], [5, 39], [90, 78], [75, 74], [50, 82], [21, 21], [64, 29], [1, 98], [25, 69], [70, 29], [51, 65], [44, 73], [45, 58], [34, 84], [70, 77], [93, 0], [49, 100], [94, 65], [16, 66], [99, 71], [26, 54], [7, 61], [46, 72], [70, 25], [64, 52], [62, 45], [53, 44], [0, 68], [69, 79], [100, 78], [42, 58], [76, 3], [29, 81], [22, 70], [74, 23], [11, 70], [32, 4], [86, 9], [10, 2], [57, 1], [96, 96], [35, 31], [34, 14], [79, 23], [44, 37], [8, 21], [20, 32]]\n"
     ]
    }
   ],
   "source": [
    "dataset100 = generate_dataset(100)\n",
    "print(dataset100)"
   ]
  },
  {
   "cell_type": "code",
   "execution_count": 109,
   "id": "f44aadf7-ede6-4a0f-a790-4afe23f15f0e",
   "metadata": {},
   "outputs": [
    {
     "name": "stdout",
     "output_type": "stream",
     "text": [
      "[[32, 15, 1], [63, 97, 1], [57, 60, 1], [83, 48, 0], [100, 26, 0], [12, 62, 0], [3, 49, 0], [55, 77, 1], [97, 98, 0], [0, 89, 0], [57, 34, 1], [92, 29, 0], [75, 13, 0], [40, 3, 0], [2, 3, 0], [83, 69, 0], [1, 48, 0], [87, 27, 0], [54, 92, 1], [3, 67, 0], [28, 97, 1], [56, 63, 1], [70, 29, 1], [44, 29, 1], [86, 28, 0], [97, 58, 0], [37, 2, 0], [53, 71, 1], [82, 12, 0], [23, 80, 1], [92, 37, 0], [15, 95, 0], [42, 92, 1], [91, 64, 0], [54, 64, 1], [85, 24, 0], [38, 36, 1], [75, 63, 0], [64, 50, 1], [75, 4, 0], [61, 31, 1], [95, 51, 0], [53, 85, 1], [22, 46, 1], [70, 89, 1], [99, 86, 0], [94, 47, 0], [11, 56, 0], [84, 65, 0], [13, 99, 0], [20, 66, 1], [50, 47, 1], [62, 93, 1], [3, 60, 0], [5, 39, 0], [90, 78, 0], [75, 74, 0], [50, 82, 1], [21, 21, 1], [64, 29, 1], [1, 98, 0], [25, 69, 1], [70, 29, 1], [51, 65, 1], [44, 73, 1], [45, 58, 1], [34, 84, 1], [70, 77, 1], [93, 0, 0], [49, 100, 0], [94, 65, 0], [16, 66, 0], [99, 71, 0], [26, 54, 1], [7, 61, 0], [46, 72, 1], [70, 25, 1], [64, 52, 1], [62, 45, 1], [53, 44, 1], [0, 68, 0], [69, 79, 1], [100, 78, 0], [42, 58, 1], [76, 3, 0], [29, 81, 1], [22, 70, 1], [74, 23, 0], [11, 70, 0], [32, 4, 0], [86, 9, 0], [10, 2, 0], [57, 1, 0], [96, 96, 0], [35, 31, 1], [34, 14, 1], [79, 23, 0], [44, 37, 1], [8, 21, 0], [20, 32, 1]]\n",
      "53\n",
      "47\n"
     ]
    }
   ],
   "source": [
    "labeled_dataset100 = labeling_function(dataset100,random_concept_h_parameter)\n",
    "print(labeled_dataset100)\n",
    "count0=0\n",
    "count1=0\n",
    "for data_instance in labeled_dataset100:\n",
    "    if data_instance[2]==1:\n",
    "        count1+=1\n",
    "    else:\n",
    "        count0+=1\n",
    "print(count0)\n",
    "print(count1)"
   ]
  },
  {
   "cell_type": "code",
   "execution_count": null,
   "id": "462af7b3-4949-4b3b-a002-89306f5037bf",
   "metadata": {},
   "outputs": [],
   "source": []
  }
 ],
 "metadata": {
  "kernelspec": {
   "display_name": "Python 3 (ipykernel)",
   "language": "python",
   "name": "python3"
  },
  "language_info": {
   "codemirror_mode": {
    "name": "ipython",
    "version": 3
   },
   "file_extension": ".py",
   "mimetype": "text/x-python",
   "name": "python",
   "nbconvert_exporter": "python",
   "pygments_lexer": "ipython3",
   "version": "3.10.12"
  }
 },
 "nbformat": 4,
 "nbformat_minor": 5
}
