{
 "cells": [
  {
   "cell_type": "code",
   "execution_count": 127,
   "id": "513f6ee2-a3c7-4d32-85fc-76247f8a41ce",
   "metadata": {},
   "outputs": [
    {
     "name": "stdout",
     "output_type": "stream",
     "text": [
      "Requirement already satisfied: numpy in /home/ubuntu/py/CS503/envML/lib/python3.10/site-packages (1.26.3)\n",
      "Note: you may need to restart the kernel to use updated packages.\n"
     ]
    }
   ],
   "source": [
    "pip install numpy"
   ]
  },
  {
   "cell_type": "code",
   "execution_count": 128,
   "id": "7e38f938-d9d7-4c08-8fc4-5251f9d95026",
   "metadata": {},
   "outputs": [],
   "source": [
    "import random"
   ]
  },
  {
   "cell_type": "code",
   "execution_count": 129,
   "id": "4ccc6e9c-9376-48ef-a068-9717c74ab7cb",
   "metadata": {},
   "outputs": [],
   "source": [
    "from numpy import *\n",
    "\n",
    "def PartitionRaja_Discover(X, Y, k):\n",
    "\n",
    "    assert all(array(X) == array(sorted(X))), \"X must be sorted!\"\n",
    "\n",
    "    X = array(X)\n",
    "    Y = array(Y)\n",
    "    m = len(X)\n",
    "    DP1 = [[None for j in range(k+1)] for i in range(m+1)]\n",
    "    DP2 = zeros((m+1, k+1), dtype=int)\n",
    "\n",
    "    cuml_sum_y = concatenate([[0], cumsum(Y)])\n",
    "\n",
    "    DP2[:m+1,0] = cuml_sum_y\n",
    "\n",
    "    for i in range(1, m+1):\n",
    "        for j in range(1, k+1):\n",
    "            choices = []\n",
    "            for l in range(0,i+1):\n",
    "                nxt_errs = DP2[l,j-1] + (cuml_sum_y[i]-cuml_sum_y[l]) + concatenate([[0], cumsum((-1)**(Y[arange(l, i)] == 1))])\n",
    "                min_err = argmin(nxt_errs)\n",
    "                choices.append((nxt_errs[min_err], (l, arange(l,i+1)[min_err])))\n",
    "\n",
    "            DP2[i,j], DP1[i][j] = min(choices)\n",
    "\n",
    "    good = []\n",
    "    cur = DP1[m][k]\n",
    "    for i in range(k,0,-1):\n",
    "        good.append(cur)\n",
    "        cur = DP1[cur[0]][i-1]\n",
    "        if cur == None:\n",
    "            break\n",
    "    good = sorted(good)\n",
    "    temp = concatenate([[0], X, [1]])\n",
    "    reps = (temp[1:]+temp[:-1]) / 2.0\n",
    "    partitions = [(reps[a], reps[b]) for a,b in good]\n",
    "\n",
    "    return partitions"
   ]
  },
  {
   "cell_type": "code",
   "execution_count": 130,
   "id": "a0a21744-2316-46fe-999d-688704ff123a",
   "metadata": {},
   "outputs": [],
   "source": [
    "def form_a_dataset(number_of_samples):\n",
    "    dataset = []\n",
    "    while(number_of_samples>0):\n",
    "        x = round(random.uniform(0, 1), 2)\n",
    "        y = random.randint(0, 2)\n",
    "        dataset.append((x,y))\n",
    "        number_of_samples-=1\n",
    "    sorted_dataset = sorted(dataset, key=lambda x: x[0])\n",
    "    return sorted_dataset"
   ]
  },
  {
   "cell_type": "code",
   "execution_count": 131,
   "id": "788149d3-67b2-4428-bb0e-3e42db736699",
   "metadata": {},
   "outputs": [
    {
     "name": "stdout",
     "output_type": "stream",
     "text": [
      "[(0.03, 0), (0.13, 0), (0.17, 0), (0.22, 1), (0.24, 0), (0.3, 1), (0.57, 0), (0.66, 1), (0.7, 1), (0.95, 1)]\n"
     ]
    }
   ],
   "source": [
    "random.seed(65)\n",
    "number_of_samples = 10\n",
    "dataset = form_a_dataset(number_of_samples)\n",
    "print(dataset)"
   ]
  },
  {
   "cell_type": "code",
   "execution_count": 132,
   "id": "eee0d42f-4e39-4050-98ba-b260775b286f",
   "metadata": {},
   "outputs": [],
   "source": [
    "def find_true_error(partitions,X,Y):\n",
    "    pass"
   ]
  },
  {
   "cell_type": "code",
   "execution_count": 133,
   "id": "e6575600-fe10-4b38-b8e5-662a5241aa70",
   "metadata": {},
   "outputs": [],
   "source": [
    "def find_empirical_error(partitions, X, Y):\n",
    "    error = 0\n",
    "    dataset_len = len(X)\n",
    "    for i in range(0, dataset_len):\n",
    "        x = X[i]\n",
    "        y = Y[i]\n",
    "        isPositive = False\n",
    "        for partition in partitions:\n",
    "            if partition[0] <= x and x <= partition[1]:\n",
    "                isPositive = True\n",
    "        if (isPositive == True and y == 0) or (isPositive == False and y == 1):\n",
    "            error+=1\n",
    "    return error"
   ]
  },
  {
   "cell_type": "code",
   "execution_count": 134,
   "id": "8ad91d81-47d0-46d4-87b1-257088725489",
   "metadata": {},
   "outputs": [],
   "source": [
    "def SUBTASK1():\n",
    "    pass"
   ]
  },
  {
   "cell_type": "code",
   "execution_count": 135,
   "id": "194fe7ec-a036-4671-8bee-0c85fd8459ad",
   "metadata": {},
   "outputs": [
    {
     "name": "stdout",
     "output_type": "stream",
     "text": [
      "[(0.195, 0.22999999999999998), (0.27, 0.43499999999999994), (0.615, 0.975)]\n",
      "0\n"
     ]
    }
   ],
   "source": [
    "X = [dataset_instance[0] for dataset_instance in dataset]\n",
    "Y = [dataset_instance[1] for dataset_instance in dataset]\n",
    "partitions = PartitionRaja_Discover(X,Y,3)\n",
    "print(partitions)\n",
    "empirical_error = find_empirical_error(partitions, X, Y)\n",
    "print(empirical_error)"
   ]
  }
 ],
 "metadata": {
  "kernelspec": {
   "display_name": "Python 3 (ipykernel)",
   "language": "python",
   "name": "python3"
  },
  "language_info": {
   "codemirror_mode": {
    "name": "ipython",
    "version": 3
   },
   "file_extension": ".py",
   "mimetype": "text/x-python",
   "name": "python",
   "nbconvert_exporter": "python",
   "pygments_lexer": "ipython3",
   "version": "3.10.12"
  }
 },
 "nbformat": 4,
 "nbformat_minor": 5
}
