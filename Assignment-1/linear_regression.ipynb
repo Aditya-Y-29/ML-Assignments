{
 "cells": [
  {
   "cell_type": "code",
   "execution_count": 1,
   "id": "7dcbeefd-6611-4c92-afa7-43899264e618",
   "metadata": {},
   "outputs": [
    {
     "name": "stdout",
     "output_type": "stream",
     "text": [
      "Intercept: 1.0000000000000069\n",
      "Coefficients: [ 1.00000000e+00 -1.66533454e-16]\n"
     ]
    }
   ],
   "source": [
    "import numpy as np\n",
    "\n",
    "class LinearRegression:\n",
    "    def fit(self, X, y):\n",
    "        # Add intercept term to X\n",
    "        X = np.insert(X, 0, 1, axis=1)\n",
    "        \n",
    "        # Calculate parameters using the normal equation\n",
    "        self.theta = np.linalg.inv(X.T @ X) @ X.T @ y\n",
    "\n",
    "    def predict(self, X):\n",
    "        # Add intercept term to X\n",
    "        X = np.insert(X, 0, 1, axis=1)\n",
    "        \n",
    "        # Predict using learned parameters\n",
    "        return X @ self.theta\n",
    "\n",
    "# Example usage\n",
    "X = np.array([[1, 2], [2, 5], [3, 9], [4, 1]])  # Feature matrix\n",
    "y = np.array([2, 3, 4, 5])          # Target vector\n",
    "\n",
    "# Create and fit the model\n",
    "model = LinearRegression()\n",
    "model.fit(X, y)\n",
    "\n",
    "# Make predictions\n",
    "# predictions = model.predict(X)\n",
    "intercept = model.theta[0]  # Intercept term\n",
    "coefficients = model.theta[1:]  # Coefficients for each feature\n",
    "\n",
    "print(\"Intercept:\", intercept)\n",
    "print(\"Coefficients:\", coefficients)\n",
    "# print(\"Predictions:\", predictions)"
   ]
  }
 ],
 "metadata": {
  "kernelspec": {
   "display_name": "Python 3 (ipykernel)",
   "language": "python",
   "name": "python3"
  },
  "language_info": {
   "codemirror_mode": {
    "name": "ipython",
    "version": 3
   },
   "file_extension": ".py",
   "mimetype": "text/x-python",
   "name": "python",
   "nbconvert_exporter": "python",
   "pygments_lexer": "ipython3",
   "version": "3.10.12"
  }
 },
 "nbformat": 4,
 "nbformat_minor": 5
}
