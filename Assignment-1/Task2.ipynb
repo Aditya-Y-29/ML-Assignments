{
 "cells": [
  {
   "cell_type": "code",
   "execution_count": 4,
   "id": "64a8cfd9-b1a1-4308-b220-cb13fa832bb8",
   "metadata": {},
   "outputs": [],
   "source": [
    "import math \n",
    "import numpy as np\n",
    "import random"
   ]
  },
  {
   "cell_type": "code",
   "execution_count": 5,
   "id": "11d38903-29f4-4fc3-b4a0-fa9b600e69a1",
   "metadata": {},
   "outputs": [],
   "source": [
    "def generate_data_with_gaussian_noise(scaling_factor, total_number_of_data_points):\n",
    "    dataset = []\n",
    "    while total_number_of_data_points > 0:\n",
    "        x = round(random.uniform(-10, 10), 2)\n",
    "        noise = scaling_factor * np.random.normal(0, 1)\n",
    "        y = (-2 * math.cos(x) / math.pi) + (x / math.pi) - (2 * math.cos(3 * x) / (3 * math.pi)) + noise\n",
    "        dataset.append((x,y))\n",
    "        total_number_of_data_points-=1\n",
    "    return dataset"
   ]
  },
  {
   "cell_type": "code",
   "execution_count": 6,
   "id": "84ae9a47-72d0-4499-961b-23d9e52cda29",
   "metadata": {},
   "outputs": [
    {
     "name": "stdout",
     "output_type": "stream",
     "text": [
      "[(-1.71, -0.4576867949622001), (-4.25, -1.277579200216514), (6.89, 1.8272224025606958), (-1.12, -0.5589635207485254), (0.57, -0.2708048913542735), (1.03, 0.23359992735069202), (-3.22, -0.2097968862089859), (2.79, 1.5580697232496181), (8.0, 2.622248027943042), (-8.56, -2.552484958909808), (1.22, 0.32275012314600404), (-4.72, -1.3258790167371584), (3.11, 1.8308451501138172), (2.47, 1.1644399828746455), (-9.09, -2.1284492197193883), (-7.74, -2.6986648764346275), (0.57, -0.26649822972027787), (7.17, 2.0433450397616335), (5.95, 1.2821013528231098), (6.48, 1.4746183279478662), (-7.26, -2.4564847054965626), (-2.99, -0.1348811487299602), (1.54, 0.4486841636790031), (-2.67, -0.39614088113441626), (-5.39, -1.883791211516377), (8.44, 2.9357429859017325), (2.7, 1.4393294582531009), (-2.04, -0.5374534327827749), (-0.48, -0.9123110104743164), (3.99, 1.5246440327956163), (5.19, 1.5921055352710258), (5.59, 1.465489436030548), (-3.31, -0.26158409577072744), (9.35, 3.966723669314326), (5.26, 1.6356431570666028), (-4.59, -1.5004682177525455), (-6.56, -2.929605179919757), (-1.4, -0.3388878638430437), (-4.79, -1.6014123413565828), (7.55, 2.265209564553203), (-9.81, -2.403962904432543), (6.36, 1.1573412687832794), (-6.76, -2.7002819440031667), (6.24, 1.1370866671468087), (-1.35, -0.4065190430871236), (-7.36, -2.218066294757045), (9.71, 3.7219287207038776), (-1.62, -0.602860552951036), (9.57, 3.705112349770583), (-3.55, -0.402492557190657)]\n"
     ]
    }
   ],
   "source": [
    "random.seed(65)\n",
    "total_number_of_data_points = 50\n",
    "scaling_factor = 0.1\n",
    "dataset50 = generate_data_with_gaussian_noise(scaling_factor, total_number_of_data_points)\n",
    "print(dataset50)"
   ]
  }
 ],
 "metadata": {
  "kernelspec": {
   "display_name": "Python 3 (ipykernel)",
   "language": "python",
   "name": "python3"
  },
  "language_info": {
   "codemirror_mode": {
    "name": "ipython",
    "version": 3
   },
   "file_extension": ".py",
   "mimetype": "text/x-python",
   "name": "python",
   "nbconvert_exporter": "python",
   "pygments_lexer": "ipython3",
   "version": "3.10.12"
  }
 },
 "nbformat": 4,
 "nbformat_minor": 5
}
