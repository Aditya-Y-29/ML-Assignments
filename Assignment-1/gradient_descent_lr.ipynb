{
 "cells": [
  {
   "cell_type": "code",
   "execution_count": 4,
   "id": "b08e6c62-644f-4884-8f52-c80a1e621e89",
   "metadata": {},
   "outputs": [
    {
     "name": "stdout",
     "output_type": "stream",
     "text": [
      "Final parameters: [1.00000000e+00 1.00000000e+00 2.15821474e-15]\n"
     ]
    }
   ],
   "source": [
    "import numpy as np\n",
    "\n",
    "def gradient_descent(X, y, theta, alpha, num_iters):\n",
    "    m = len(y)\n",
    "    cost_history = []\n",
    "\n",
    "    for _ in range(num_iters):\n",
    "        # Hypothesis function\n",
    "        h = np.dot(X, theta)\n",
    "        \n",
    "        # Calculate the cost\n",
    "        cost = (1/(2*m)) * np.sum(np.square(h - y))\n",
    "        cost_history.append(cost)\n",
    "        \n",
    "        # Update parameters using gradient descent\n",
    "        gradient = (1/m) * np.dot(X.T, (h - y))\n",
    "        theta -= alpha * gradient\n",
    "\n",
    "    return theta, cost_history\n",
    "\n",
    "# Example data\n",
    "X = np.array([[1, 1, 2], [1, 2, 5], [1, 3, 9], [1, 4, 1]])  # Feature matrix (including intercept term)\n",
    "y = np.array([2, 3, 4, 5])  # Target vector\n",
    "\n",
    "# Initial parameters\n",
    "theta = np.zeros(X.shape[1])  # Initializing theta with zeros\n",
    "\n",
    "# Learning rate and number of iterations\n",
    "alpha = 0.01\n",
    "num_iters = 100000\n",
    "\n",
    "# Performing gradient descent\n",
    "theta_final, cost_history = gradient_descent(X, y, theta, alpha, num_iters)\n",
    "\n",
    "print(\"Final parameters:\", theta_final)\n"
   ]
  }
 ],
 "metadata": {
  "kernelspec": {
   "display_name": "Python 3 (ipykernel)",
   "language": "python",
   "name": "python3"
  },
  "language_info": {
   "codemirror_mode": {
    "name": "ipython",
    "version": 3
   },
   "file_extension": ".py",
   "mimetype": "text/x-python",
   "name": "python",
   "nbconvert_exporter": "python",
   "pygments_lexer": "ipython3",
   "version": "3.10.12"
  }
 },
 "nbformat": 4,
 "nbformat_minor": 5
}
