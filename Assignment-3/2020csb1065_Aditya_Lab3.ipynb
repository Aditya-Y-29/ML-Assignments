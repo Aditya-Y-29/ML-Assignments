{
  "cells": [
    {
      "cell_type": "code",
      "execution_count": null,
      "metadata": {
        "id": "z3IXqAAfGxhw",
        "colab": {
          "base_uri": "https://localhost:8080/"
        },
        "outputId": "28c43eb4-1418-45a8-f757-86cc4253f335"
      },
      "outputs": [
        {
          "output_type": "stream",
          "name": "stdout",
          "text": [
            "Mounted at /content/drive\n"
          ]
        }
      ],
      "source": [
        "# Mounting the drive\n",
        "from google.colab import drive\n",
        "drive.mount('/content/drive')"
      ]
    },
    {
      "cell_type": "markdown",
      "metadata": {
        "id": "Mw5aDgVFU2V6"
      },
      "source": [
        "# Lab 3 : Working with Neural Networks\n",
        "\n",
        "---\n",
        "\n",
        "\n",
        "Total Points: **100 points**\n",
        "\n",
        "\n",
        "Submission Deadline :  **12th-Apr-2024 (10:00 AM)**\n",
        "\n",
        "\n",
        "---\n",
        "\n",
        "\n",
        "\n",
        "General Instructions:\n",
        "---\n",
        "\n",
        "1. **Code Readability** is very important.\n",
        "* Modularize your code by making use\n",
        "of classes and functions that can be flexibly reused wherever necessary.\n",
        "* Use self explanatory variable names and add comments to describe your approach wherever necessary. You may add additional code or text blocks as required.\n",
        "2. Students are expected to follow the **honor code** of the class.\n",
        "\n",
        "Note: **For any enquiry please write to surbhi.19csz0011@iitrpr.ac.in or akanksha.22csz0001@iitrpr.ac.in**"
      ]
    },
    {
      "cell_type": "markdown",
      "metadata": {
        "id": "mKk72AoXaCpj"
      },
      "source": [
        "\n",
        "In this lab, we will perform **clustering** and **classification** tasks.\n",
        "We will consider “Ecommerce.csv” for the clustering problem, “Facial_Emotion_Recognition.zip” for CNN based multi-class classification, and “winequality.csv” for MLP formulation. All these datasets are available at following link:\n",
        "https://drive.google.com/drive/folders/1dnTzyeKZrErhJVuGkUVwEaTCoR-Yf2iW?usp=drive_link\n",
        "\n"
      ]
    },
    {
      "cell_type": "markdown",
      "metadata": {
        "id": "A749LAmZqqZq"
      },
      "source": [
        "\n",
        "---\n",
        "\n",
        "\n",
        "\n",
        "Section 1: MLP  **(Total points = 45)**\n",
        "\n",
        "---\n",
        "\n",
        "\n",
        "*   **Task Overview:**\n",
        "Given a dataset containing 1600 entries offering information about physical and chemical properties of red wine variants.The target variable is the wine quality rating. Use this dataset to predict wine quality based on measurable factors, potentially aiding in the wine making process.\n",
        "\n",
        "*   **Dataset Split:**\n",
        "X_train, X_test, Y_train, Y_test = train_test_split(Data, Labels, test_size=0.20, random_state=42)\n",
        "\n",
        "Develop a Multi-Layer Perceptron (MLP) Neural Network to predict the Wine Quality (Dataset is provided as a CSV file).\n",
        "\n",
        "**Use of built-in library functions for the specific implementation as asked in the questions are not allowed in this section.**\n",
        "\n",
        "1. Perform an exploratory analysis on the given dataset. Print the avg, max & min values of each column. Perform data pre-processing operations like standardization and splitting (80:20) of data. **(4 points)**\n",
        "\n",
        "2. Implement the three layer fully connected MLP feedforward model with only one hidden layer having 15 hidden units + bias. For this problem make your decision on the number of output units. Also, your implementation should facilitate a choice between Sigmoid & Tanh activations at each layer of MLP for the user. **(13 points)**\n",
        "\n",
        "3. Implement Back-propagation algorithm to train the parameters of the MLP created in the previous section. The Backpropagation should support gradient flow for both Sigmoid and Tanh activation functions. **(13 points)**\n",
        "\n",
        "4. Train your model using the “cross-entropy” loss. Mention your choices of the hyperparameters for training. Perform training with batch gradient descent and stochastic gradient descent. Plot the graph of training error versus Epochs for both the training methods. Report the final accuracy you achieved on the Test Data using both the training methods. **(2+3 = 5)**\n",
        "\n",
        "5. Using the best training method from the above training, train your MLP with different learning rates given as [ 0.5, 0.1, 0.01, 0.001, 0.0001]. **(5 points)**\n",
        "6. Plot the training error versus epochs for each learning rate in a single line graph. Also, plot accuracy versus learning rate. Comment on your observations. **(3+2 = 5 points)**\n"
      ]
    },
    {
      "cell_type": "code",
      "execution_count": null,
      "metadata": {
        "id": "bRRKc3ixPHO6"
      },
      "outputs": [],
      "source": [
        "#Write your code here\n"
      ]
    },
    {
      "cell_type": "code",
      "execution_count": null,
      "metadata": {
        "id": "DmwICNRhPHVJ"
      },
      "outputs": [],
      "source": [
        "#Write your code here\n"
      ]
    },
    {
      "cell_type": "code",
      "execution_count": null,
      "metadata": {
        "id": "sZkKuEptPHX3"
      },
      "outputs": [],
      "source": [
        "#Write your code here\n"
      ]
    },
    {
      "cell_type": "code",
      "execution_count": null,
      "metadata": {
        "id": "vQH2-i4wPHda"
      },
      "outputs": [],
      "source": [
        "#Write your code here\n"
      ]
    },
    {
      "cell_type": "markdown",
      "metadata": {
        "id": "kW85Ns3gR1r8"
      },
      "source": [
        "\n",
        "---\n",
        "\n",
        "\n",
        "\n",
        "Section 2:    Multi-class classification\n",
        " **(Total points = 40)**\n",
        "\n",
        "---\n",
        "**Description of Dataset:**\n",
        "\n",
        "*   The dataset consists of grayscale images portraying faces with dimensions of 48x48 pixels. The images have undergone automatic alignment to ensure that each face is approximately centered, maintaining a consistent amount of space in every image.\n",
        "*  The primary objective is to categorize each face based on the expressed emotion, assigning it to one of three categories: Happy (0), Sad (1), or Neutral (2). The training set encompasses 17,109 examples, while the public test set comprises 4,254 examples.\n",
        "\n",
        "\n",
        "**Tasks:**\n",
        "\n",
        "1. **Explore the Dataset:** Display three randomly selected images from each class to visually understand the dataset. Generate a distribution plot illustrating the number of images in each emotion class? Is the distribution uniform? Comment. **(5 points)**\n",
        "2. **Convolution:** Implement the 2D convolution function using a kernel size of 3x3. Use the sobel kernel and display the feature map for one example from each emotion class. For using sobel kernel, you need to calculate two convolutions, one for x-direction (x) and one for y-direction (y), the feature map then can be calculated as\n",
        "\n",
        "\n",
        " ![unnamed.png](data:image/png;base64,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)\n",
        "\n",
        "**(10 points)**\n",
        "\n",
        "3. **Implement Sequential CNN Model** : Utilize the Keras library to implement a sequential Convolutional Neural Network (CNN) model for facial emotion classification. Adopt the following network architecture for the CNN model:\n",
        "\n",
        "\n",
        "* Input layer\n",
        "* Con2D with 128 neurons 3x3 kernels and ReLU activation.\n",
        "* Con2D with 64 neurons 3x3 kernels and ReLU activation with batch normalization.\n",
        "* Max Pooling layer with pool-size 2x2 and padding as 'valid'.\n",
        "* Con2D with 16 neurons 3x3 kernels and ReLU activation and stride 2.\n",
        "* Con2D with 10 neurons 3x3 kernels and ReLU activation.\n",
        "* Max Pooling layer with pool-size 2x2 and padding as 'valid'.\n",
        "* Batch normalization\n",
        "* Fully Connected Dense Layer with 128 neurons , relu activation and L2 kernel regularizer with factor of 0.05.\n",
        "* Dropout of 30% ie. 0.3\n",
        "* Fully Connected Dense Layer with number of classes neurons and softmax activation.\n",
        "\n",
        "**(5 points)**\n",
        "\n",
        "4. **Training and Compiling:** Utilize cross-entropy loss for multi-class classification and proceed to compile and train the model employing four distinct optimizers: SGD, RMSprop, Adam, and Adagrad. Generate plots illustrating the training loss for each optimizer. Provide commentary on your observations. Additionally, incorporate early stopping with parameters (min_delta=0.01, patience=2) during both the compilation and training phases of your model. **(10 points)**\n",
        "\n",
        "\n",
        "**NOTE: You can try to find the best learning rate from the following: [0.001, 0.0001, 0.00001, 0.01] and take batch size to be 32 in data generators.**\n",
        "\n",
        "5. **Activation Maps:** Generate activation maps for two selected intermediate convolutional blocks across randomly chosen 10 images, state class-specific observations. **(10 points)**\n"
      ]
    },
    {
      "cell_type": "code",
      "execution_count": null,
      "metadata": {
        "id": "FDiIitjq1QMP"
      },
      "outputs": [],
      "source": [
        "#Write your code here\n"
      ]
    },
    {
      "cell_type": "code",
      "execution_count": null,
      "metadata": {
        "id": "oDNB4U9xPB4b"
      },
      "outputs": [],
      "source": [
        "#Write your code here"
      ]
    },
    {
      "cell_type": "code",
      "execution_count": null,
      "metadata": {
        "id": "Zr7HchTXPCAS"
      },
      "outputs": [],
      "source": [
        "#Write your code here"
      ]
    },
    {
      "cell_type": "code",
      "execution_count": null,
      "metadata": {
        "id": "8LWtssV2PCEn"
      },
      "outputs": [],
      "source": [
        "#Write your code here"
      ]
    },
    {
      "cell_type": "code",
      "execution_count": null,
      "metadata": {
        "id": "CbMhcItNPCH6"
      },
      "outputs": [],
      "source": [
        "#Write your code here"
      ]
    },
    {
      "cell_type": "markdown",
      "metadata": {
        "id": "LNJ_C9kfLk3Z"
      },
      "source": [
        "\n",
        "---\n",
        "\n",
        "\n",
        "\n",
        "Section 3:    Clustering  **(Total points = 15)**\n",
        "New Section\n",
        "---\n",
        "**Description of Dataset:**\n",
        "\n",
        "*   The dataset includes details about everything people bought from a UK-based online store over the span of eight months including productID, product descriptions and Country.\n",
        "*  Objective is to explore clustering approaches.\n",
        "\n",
        "\n",
        "Before implementing the clustering codes, you should perform data analysis part by performing following operations:\n",
        "\n",
        "1.   Visualize the top countries by total sales.\n",
        "2.   Visualize the product categories.\n",
        "2.   Check the column data types and missing values and handle it\n",
        "1.   Check the unique values in each column\n",
        "\n",
        "\n",
        "**Note: you are not allowed to use sklearn’s direct functions (or any in-built functions) for clustering. Write the code at your own.**\n",
        "\n",
        "\n",
        "Consider the following two features [Product_Count, 'Product_UnitPrice'] for the following tasks–\n",
        "1. **K-Means Clustering:** Implement the K-Means clustering algorithm on the online retail data. Determine the optimal number of clusters using appropriate methods. Interpret and discuss the results obtained from K-Means clustering. **(5 points)**\n",
        "\n",
        "2. **K-Medoids Clustering:** Apply the K-Medoids clustering algorithm to the same online retail data. Explain the differences between K-Means and K-Medoids algorithm results. Evaluate the effectiveness of K-Medoids in clustering the online retail data. **(5 points)**\n",
        "\n",
        "3. **DBSCAN Clustering:** Implement the DBSCAN clustering algorithm on the online retail dataset. Discuss the parameters used for DBSCAN and their impact on the results. Compare and contrast DBSCAN with K-Means and K-Medoids in the context of online retail data. **(5 points)**"
      ]
    },
    {
      "cell_type": "code",
      "execution_count": 32,
      "metadata": {
        "id": "_MLtdW82PKTb"
      },
      "outputs": [],
      "source": [
        "import pandas as pd\n",
        "import numpy as np\n",
        "import matplotlib.pyplot as plt"
      ]
    },
    {
      "cell_type": "code",
      "execution_count": 33,
      "metadata": {
        "id": "5rERXb71PKVx"
      },
      "outputs": [],
      "source": [
        "file_path = '/content/drive/My Drive/ML_Lab3_Dataset/Ecommerce.csv'\n",
        "df = pd.read_csv(file_path)"
      ]
    },
    {
      "cell_type": "code",
      "source": [
        "# Considering the following two features [Product_Count, 'Product_UnitPrice'] for the following tasks\n",
        "columns = ['Product_Count', 'Product_UnitPrice']\n",
        "df = df[columns]"
      ],
      "metadata": {
        "id": "lyPxDsLVeIsp"
      },
      "execution_count": 34,
      "outputs": []
    },
    {
      "cell_type": "code",
      "source": [
        "#------------------------------------------------------------------------------------------------------------------------\n",
        "#---------------------------------------------- K-Means Clustering ------------------------------------------------------\n",
        "# -----------------------------------------------------------------------------------------------------------------------"
      ],
      "metadata": {
        "id": "sICpt75ZdCGD"
      },
      "execution_count": 35,
      "outputs": []
    },
    {
      "cell_type": "code",
      "source": [
        "def k_means(X, n_clusters = 3, max_iters = 100):\n",
        "    n_samples, n_features = X.shape\n",
        "    centroids = X[np.random.choice(n_samples, n_clusters, replace=False)]\n",
        "\n",
        "    for _ in range(max_iters):\n",
        "\n",
        "        distances = np.sqrt(((X - centroids[:, np.newaxis])**2).sum(axis=2))\n",
        "        labels = np.argmin(distances, axis=0)\n",
        "\n",
        "        new_centroids = np.array([X[labels == i].mean(axis=0) for i in range(n_clusters)])\n",
        "\n",
        "        if np.allclose(centroids, new_centroids):\n",
        "            break\n",
        "\n",
        "        centroids = new_centroids\n",
        "\n",
        "    return centroids, labels"
      ],
      "metadata": {
        "id": "mS4y9EmAdZjB"
      },
      "execution_count": 36,
      "outputs": []
    },
    {
      "cell_type": "code",
      "source": [
        "def compute_inertia(X, centroids, labels):\n",
        "    inertia = 0\n",
        "\n",
        "    for i in range(len(X)):\n",
        "        centroid_index = labels[i]\n",
        "        dist = np.linalg.norm(X[i] - centroids[centroid_index])**2\n",
        "        inertia += dist\n",
        "\n",
        "    return inertia"
      ],
      "metadata": {
        "id": "WmkR3bWgIZI5"
      },
      "execution_count": 37,
      "outputs": []
    },
    {
      "cell_type": "code",
      "source": [
        "def elbow_method(X, max_clusters):\n",
        "    wcss = []\n",
        "\n",
        "    for k in range(1, max_clusters + 1):\n",
        "        centroids, labels = k_means(X, k)\n",
        "        wcss.append(compute_inertia(X, centroids, labels))\n",
        "\n",
        "    return wcss"
      ],
      "metadata": {
        "id": "P7P385UBJE2C"
      },
      "execution_count": 38,
      "outputs": []
    },
    {
      "cell_type": "code",
      "source": [
        "def plot_wcss_against_k(wcss, k):\n",
        "    plt.plot(k, wcss, marker='o', linestyle='-')\n",
        "    plt.title('K vs wcss')\n",
        "    plt.xlabel('K')\n",
        "    plt.ylabel('wcss')\n",
        "    plt.grid(True)\n",
        "    plt.show()"
      ],
      "metadata": {
        "id": "q8mep5hPKK-C"
      },
      "execution_count": 39,
      "outputs": []
    },
    {
      "cell_type": "code",
      "source": [
        "X = df.to_numpy()"
      ],
      "metadata": {
        "id": "zd8v7l_1FZKP"
      },
      "execution_count": 40,
      "outputs": []
    },
    {
      "cell_type": "code",
      "source": [
        "max_clusters = 10\n",
        "np.random.seed(100)\n",
        "wcss = elbow_method(X, max_clusters)"
      ],
      "metadata": {
        "id": "uvtFEVrsFaXB",
        "colab": {
          "base_uri": "https://localhost:8080/"
        },
        "outputId": "645ddc3d-02ba-4429-b916-469f9f2d2427"
      },
      "execution_count": 51,
      "outputs": [
        {
          "output_type": "stream",
          "name": "stderr",
          "text": [
            "<ipython-input-36-419e9d26d283>:10: RuntimeWarning: Mean of empty slice.\n",
            "  new_centroids = np.array([X[labels == i].mean(axis=0) for i in range(n_clusters)])\n"
          ]
        }
      ]
    },
    {
      "cell_type": "code",
      "source": [
        "k = range(1, len(wcss) + 1)\n",
        "plot_wcss_against_k(wcss, k)"
      ],
      "metadata": {
        "id": "JsPU8t2gFaaD",
        "colab": {
          "base_uri": "https://localhost:8080/",
          "height": 472
        },
        "outputId": "f0291360-5ee3-43a5-b06a-9669e2e99938"
      },
      "execution_count": 52,
      "outputs": [
        {
          "output_type": "display_data",
          "data": {
            "text/plain": [
              "<Figure size 640x480 with 1 Axes>"
            ],
            "image/png": "[encoded data removed]"
          },
          "metadata": {}
        }
      ]
    },
    {
      "cell_type": "code",
      "source": [
        "'''\n",
        "Results and Observation from K - means clustering:\n",
        "\n",
        "'''"
      ],
      "metadata": {
        "id": "DEzblDCwFadB",
        "colab": {
          "base_uri": "https://localhost:8080/",
          "height": 35
        },
        "outputId": "6e3c9312-3185-4e16-9d83-36ca954189b7"
      },
      "execution_count": 43,
      "outputs": [
        {
          "output_type": "execute_result",
          "data": {
            "text/plain": [
              "'\\nResults and Observation from K - means clustering:\\n\\n'"
            ],
            "application/vnd.google.colaboratory.intrinsic+json": {
              "type": "string"
            }
          },
          "metadata": {},
          "execution_count": 43
        }
      ]
    },
    {
      "cell_type": "code",
      "source": [
        "#------------------------------------------------------------------------------------------------------------------------\n",
        "#---------------------------------------------- K-Medoids Clustering ----------------------------------------------------\n",
        "# -----------------------------------------------------------------------------------------------------------------------"
      ],
      "metadata": {
        "id": "cfkPNUZyFagX"
      },
      "execution_count": null,
      "outputs": []
    },
    {
      "cell_type": "code",
      "source": [],
      "metadata": {
        "id": "0444--ygMGVz"
      },
      "execution_count": null,
      "outputs": []
    },
    {
      "cell_type": "code",
      "source": [],
      "metadata": {
        "id": "HrtM0LKxMGSH"
      },
      "execution_count": null,
      "outputs": []
    },
    {
      "cell_type": "code",
      "source": [],
      "metadata": {
        "id": "TD9aivGXMGPi"
      },
      "execution_count": null,
      "outputs": []
    },
    {
      "cell_type": "code",
      "source": [],
      "metadata": {
        "id": "6oomYydGMGMe"
      },
      "execution_count": null,
      "outputs": []
    },
    {
      "cell_type": "code",
      "source": [],
      "metadata": {
        "id": "KZ8X_GYdMGJ1"
      },
      "execution_count": null,
      "outputs": []
    },
    {
      "cell_type": "code",
      "source": [],
      "metadata": {
        "id": "a0KIpSmHMGG1"
      },
      "execution_count": null,
      "outputs": []
    },
    {
      "cell_type": "code",
      "source": [],
      "metadata": {
        "id": "nLdLlF8dMGD_"
      },
      "execution_count": null,
      "outputs": []
    },
    {
      "cell_type": "code",
      "source": [],
      "metadata": {
        "id": "p_CL0L0WMGBM"
      },
      "execution_count": null,
      "outputs": []
    },
    {
      "cell_type": "code",
      "source": [],
      "metadata": {
        "id": "J0Hz6ltAMF-c"
      },
      "execution_count": null,
      "outputs": []
    },
    {
      "cell_type": "code",
      "source": [],
      "metadata": {
        "id": "b-eOBojcMF7w"
      },
      "execution_count": null,
      "outputs": []
    },
    {
      "cell_type": "code",
      "source": [],
      "metadata": {
        "id": "kGloiLEOMF5H"
      },
      "execution_count": null,
      "outputs": []
    },
    {
      "cell_type": "code",
      "source": [],
      "metadata": {
        "id": "T5QhNxayMF2J"
      },
      "execution_count": null,
      "outputs": []
    },
    {
      "cell_type": "code",
      "source": [],
      "metadata": {
        "id": "6BRqG4frMFzI"
      },
      "execution_count": null,
      "outputs": []
    },
    {
      "cell_type": "code",
      "source": [],
      "metadata": {
        "id": "I74TuzNQMFgr"
      },
      "execution_count": null,
      "outputs": []
    },
    {
      "cell_type": "code",
      "source": [],
      "metadata": {
        "id": "vRHr6jugMFdP"
      },
      "execution_count": null,
      "outputs": []
    },
    {
      "cell_type": "code",
      "source": [],
      "metadata": {
        "id": "ajsGgxvNMFZY"
      },
      "execution_count": null,
      "outputs": []
    },
    {
      "cell_type": "code",
      "source": [],
      "metadata": {
        "id": "esMDQ8VpMFWh"
      },
      "execution_count": null,
      "outputs": []
    },
    {
      "cell_type": "code",
      "source": [
        "#------------------------------------------------------------------------------------------------------------------------\n",
        "#---------------------------------------------- K-Means Clustering ------------------------------------------------------\n",
        "# -----------------------------------------------------------------------------------------------------------------------"
      ],
      "metadata": {
        "id": "QeRuGIPbFajP"
      },
      "execution_count": null,
      "outputs": []
    },
    {
      "cell_type": "code",
      "source": [],
      "metadata": {
        "id": "aS0V29lWFams"
      },
      "execution_count": null,
      "outputs": []
    }
  ],
  "metadata": {
    "colab": {
      "provenance": []
    },
    "kernelspec": {
      "display_name": "Python 3 (ipykernel)",
      "language": "python",
      "name": "python3"
    },
    "language_info": {
      "codemirror_mode": {
        "name": "ipython",
        "version": 3
      },
      "file_extension": ".py",
      "mimetype": "text/x-python",
      "name": "python",
      "nbconvert_exporter": "python",
      "pygments_lexer": "ipython3",
      "version": "3.9.18"
    }
  },
  "nbformat": 4,
  "nbformat_minor": 0
}