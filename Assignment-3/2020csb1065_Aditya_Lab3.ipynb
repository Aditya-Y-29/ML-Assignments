{
  "cells": [
    {
      "cell_type": "code",
      "execution_count": null,
      "metadata": {
        "colab": {
          "base_uri": "https://localhost:8080/"
        },
        "id": "z3IXqAAfGxhw",
        "outputId": "17904b96-b160-4bcd-d590-d6394c8ea04d"
      },
      "outputs": [
        {
          "output_type": "stream",
          "name": "stdout",
          "text": [
            "Mounted at /content/drive\n"
          ]
        }
      ],
      "source": [
        "# Mounting the drive\n",
        "from google.colab import drive\n",
        "drive.mount('/content/drive')"
      ]
    },
    {
      "cell_type": "markdown",
      "metadata": {
        "id": "Mw5aDgVFU2V6"
      },
      "source": [
        "# Lab 3 : Working with Neural Networks\n",
        "\n",
        "---\n",
        "\n",
        "\n",
        "Total Points: **100 points**\n",
        "\n",
        "\n",
        "Submission Deadline :  **12th-Apr-2024 (10:00 AM)**\n",
        "\n",
        "\n",
        "---\n",
        "\n",
        "\n",
        "\n",
        "General Instructions:\n",
        "---\n",
        "\n",
        "1. **Code Readability** is very important.\n",
        "* Modularize your code by making use\n",
        "of classes and functions that can be flexibly reused wherever necessary.\n",
        "* Use self explanatory variable names and add comments to describe your approach wherever necessary. You may add additional code or text blocks as required.\n",
        "2. Students are expected to follow the **honor code** of the class.\n",
        "\n",
        "Note: **For any enquiry please write to surbhi.19csz0011@iitrpr.ac.in or akanksha.22csz0001@iitrpr.ac.in**"
      ]
    },
    {
      "cell_type": "markdown",
      "metadata": {
        "id": "mKk72AoXaCpj"
      },
      "source": [
        "\n",
        "In this lab, we will perform **clustering** and **classification** tasks.\n",
        "We will consider “Ecommerce.csv” for the clustering problem, “Facial_Emotion_Recognition.zip” for CNN based multi-class classification, and “winequality.csv” for MLP formulation. All these datasets are available at following link:\n",
        "https://drive.google.com/drive/folders/1dnTzyeKZrErhJVuGkUVwEaTCoR-Yf2iW?usp=drive_link\n",
        "\n"
      ]
    },
    {
      "cell_type": "markdown",
      "metadata": {
        "id": "A749LAmZqqZq"
      },
      "source": [
        "\n",
        "---\n",
        "\n",
        "\n",
        "\n",
        "Section 1: MLP  **(Total points = 45)**\n",
        "\n",
        "---\n",
        "\n",
        "\n",
        "*   **Task Overview:**\n",
        "Given a dataset containing 1600 entries offering information about physical and chemical properties of red wine variants.The target variable is the wine quality rating. Use this dataset to predict wine quality based on measurable factors, potentially aiding in the wine making process.\n",
        "\n",
        "*   **Dataset Split:**\n",
        "X_train, X_test, Y_train, Y_test = train_test_split(Data, Labels, test_size=0.20, random_state=42)\n",
        "\n",
        "Develop a Multi-Layer Perceptron (MLP) Neural Network to predict the Wine Quality (Dataset is provided as a CSV file).\n",
        "\n",
        "**Use of built-in library functions for the specific implementation as asked in the questions are not allowed in this section.**\n",
        "\n",
        "1. Perform an exploratory analysis on the given dataset. Print the avg, max & min values of each column. Perform data pre-processing operations like standardization and splitting (80:20) of data. **(4 points)**\n",
        "\n",
        "2. Implement the three layer fully connected MLP feedforward model with only one hidden layer having 15 hidden units + bias. For this problem make your decision on the number of output units. Also, your implementation should facilitate a choice between Sigmoid & Tanh activations at each layer of MLP for the user. **(13 points)**\n",
        "\n",
        "3. Implement Back-propagation algorithm to train the parameters of the MLP created in the previous section. The Backpropagation should support gradient flow for both Sigmoid and Tanh activation functions. **(13 points)**\n",
        "\n",
        "4. Train your model using the “cross-entropy” loss. Mention your choices of the hyperparameters for training. Perform training with batch gradient descent and stochastic gradient descent. Plot the graph of training error versus Epochs for both the training methods. Report the final accuracy you achieved on the Test Data using both the training methods. **(2+3 = 5)**\n",
        "\n",
        "5. Using the best training method from the above training, train your MLP with different learning rates given as [ 0.5, 0.1, 0.01, 0.001, 0.0001]. **(5 points)**\n",
        "6. Plot the training error versus epochs for each learning rate in a single line graph. Also, plot accuracy versus learning rate. Comment on your observations. **(3+2 = 5 points)**\n"
      ]
    },
    {
      "cell_type": "code",
      "execution_count": null,
      "metadata": {
        "id": "bRRKc3ixPHO6"
      },
      "outputs": [],
      "source": [
        "import pandas as pd\n",
        "import numpy as np\n",
        "import matplotlib.pyplot as plt"
      ]
    },
    {
      "cell_type": "code",
      "execution_count": null,
      "metadata": {
        "id": "DmwICNRhPHVJ"
      },
      "outputs": [],
      "source": [
        "file_path = '/content/drive/My Drive/ML_Lab3_Dataset/winequality.csv'\n",
        "df = pd.read_csv(file_path)"
      ]
    },
    {
      "cell_type": "code",
      "execution_count": null,
      "metadata": {
        "id": "sZkKuEptPHX3"
      },
      "outputs": [],
      "source": [
        "# --------------------------------------------------------------------------------------------------------------------\n",
        "# ------------------------------------------ Task 1.1: Exploratory Analysis ------------------------------------------\n",
        "# --------------------------------------------------------------------------------------------------------------------"
      ]
    },
    {
      "cell_type": "code",
      "execution_count": null,
      "metadata": {
        "id": "vQH2-i4wPHda",
        "colab": {
          "base_uri": "https://localhost:8080/"
        },
        "outputId": "9375978f-a76b-4eca-c110-3d4e3046aeb0"
      },
      "outputs": [
        {
          "output_type": "stream",
          "name": "stdout",
          "text": [
            "                          min        max       mean\n",
            "fixed acidity         4.60000   15.90000   8.319637\n",
            "volatile acidity      0.12000    1.58000   0.527821\n",
            "citric acid           0.00000    1.00000   0.270976\n",
            "residual sugar        0.90000   15.50000   2.538806\n",
            "chlorides             0.01200    0.61100   0.087467\n",
            "free sulfur dioxide   1.00000   72.00000  15.874922\n",
            "total sulfur dioxide  6.00000  289.00000  46.467792\n",
            "density               0.99007    1.00369   0.996747\n",
            "pH                    2.74000    4.01000   3.311113\n",
            "sulphates             0.33000    2.00000   0.658149\n",
            "alcohol               8.40000   14.90000  10.422983\n",
            "quality               3.00000    8.00000   5.636023\n"
          ]
        }
      ],
      "source": [
        "# Printing minimum, maximum and average of each column\n",
        "exploratory_stats = df.agg(['min', 'max', 'mean'])\n",
        "exploratory_stats = exploratory_stats.T\n",
        "print(exploratory_stats)"
      ]
    },
    {
      "cell_type": "code",
      "source": [
        "# Function to standardize dataframe\n",
        "def standardized_dataframe(df):\n",
        "   return (df - df.mean()) / (5 *df.std())"
      ],
      "metadata": {
        "id": "1MgHcyBk19L1"
      },
      "execution_count": null,
      "outputs": []
    },
    {
      "cell_type": "code",
      "source": [
        "# Function to split training and testing data\n",
        "def train_test_split(data, test_size=0.2, random_state=42):\n",
        "    np.random.seed(random_state)\n",
        "    indices = np.random.permutation(len(data))\n",
        "    test_samples = int(len(data) * test_size)\n",
        "    test_indices = indices[:test_samples]\n",
        "    train_indices = indices[test_samples:]\n",
        "    train_set = data.iloc[train_indices]\n",
        "    test_set = data.iloc[test_indices]\n",
        "    return train_set, test_set"
      ],
      "metadata": {
        "id": "Bckhq-9QyHQ6"
      },
      "execution_count": null,
      "outputs": []
    },
    {
      "cell_type": "code",
      "source": [
        "# --------------------------------------------------------------------------------------------------------------------\n",
        "# ------------------------------------------ Task 1.2: Feed Forward Pass ---------------------------------------------\n",
        "# --------------------------------------------------------------------------------------------------------------------"
      ],
      "metadata": {
        "id": "gokf-b_gyHFQ"
      },
      "execution_count": null,
      "outputs": []
    },
    {
      "cell_type": "code",
      "source": [
        "def sigmoid(x):\n",
        "        return 1 / (1 + np.exp(-x))\n",
        "\n",
        "def tanh(x):\n",
        "    return (np.exp(x) - np.exp(-x)) / (np.exp(x) + np.exp(-x))"
      ],
      "metadata": {
        "id": "vAuudVe4GNmQ"
      },
      "execution_count": null,
      "outputs": []
    },
    {
      "cell_type": "code",
      "source": [
        "def activation(z, activation_type):\n",
        "    if activation_type == 'tanh':\n",
        "       a = tanh(z)\n",
        "    else:\n",
        "       a = sigmoid(z)\n",
        "    return a"
      ],
      "metadata": {
        "id": "T3sdOpb7G7X9"
      },
      "execution_count": null,
      "outputs": []
    },
    {
      "cell_type": "code",
      "source": [
        "def softmax(x):\n",
        "    exp_x = np.exp(x)\n",
        "    return exp_x / np.sum(exp_x, axis=1, keepdims=True)"
      ],
      "metadata": {
        "id": "BqEDB_iDUPNj"
      },
      "execution_count": null,
      "outputs": []
    },
    {
      "cell_type": "code",
      "source": [
        "# Forward Pass\n",
        "def forward(X, W1, W2, b1, b2, activation_at_hidden):\n",
        "    z1 = np.dot(X, W1) + b1\n",
        "    a1 = activation(z1, activation_at_hidden)\n",
        "    z2 = np.dot(a1, W2) + b2\n",
        "    a2 = softmax(z2)\n",
        "    return z1, a1, z2, a2"
      ],
      "metadata": {
        "id": "6K7oGjCl2pF6"
      },
      "execution_count": null,
      "outputs": []
    },
    {
      "cell_type": "code",
      "source": [
        "# --------------------------------------------------------------------------------------------------------------------\n",
        "# ------------------------------------------ Task 1.3: Back Propogation ----------------------------------------------\n",
        "# --------------------------------------------------------------------------------------------------------------------"
      ],
      "metadata": {
        "id": "RzCXuRnA2pCh"
      },
      "execution_count": null,
      "outputs": []
    },
    {
      "cell_type": "code",
      "source": [
        "def cross_entropy(y_true, y_pred):\n",
        "    epsilon = 1e-12\n",
        "    y_pred = np.clip(y_pred, epsilon, 1.0 - epsilon)\n",
        "    return -np.mean(np.sum(y_true * np.log(y_pred), axis=1))"
      ],
      "metadata": {
        "id": "e8fwdHc62o8q"
      },
      "execution_count": null,
      "outputs": []
    },
    {
      "cell_type": "code",
      "source": [
        "def d_activation(z, activation_type):\n",
        "    if activation_type == 'tanh':\n",
        "       return  (1 - np.power(activation(z, activation_type), 2))\n",
        "    return activation(z, activation_type) * (1 - activation(z, activation_type))\n"
      ],
      "metadata": {
        "id": "mmLf8QA_WkaF"
      },
      "execution_count": null,
      "outputs": []
    },
    {
      "cell_type": "code",
      "source": [
        "def backward(X, y, W1, W2, b1, b2, y_pred, a1, z1, activation_at_hidden):\n",
        "  loss = cross_entropy(y, y_pred)\n",
        "  d_loss_dz2 = y_pred - y\n",
        "  d_loss_dW2 = np.dot(a1.T, d_loss_dz2)\n",
        "  d_loss_db2 = np.sum(d_loss_dz2, axis=0)\n",
        "  d_loss_da1 = np.dot(d_loss_dz2, W2.T)\n",
        "  d_loss_dz1 = d_loss_da1 * d_activation(z1, activation_at_hidden)\n",
        "  d_loss_dW1 = np.dot(X.T, d_loss_dz1)\n",
        "  d_loss_db1 = np.sum(d_loss_dz1, axis=0)\n",
        "  return d_loss_dW1, d_loss_dW2, d_loss_db1, d_loss_db2"
      ],
      "metadata": {
        "id": "nkIr4xlG2o5h"
      },
      "execution_count": null,
      "outputs": []
    },
    {
      "cell_type": "code",
      "source": [
        "# --------------------------------------------------------------------------------------------------------------------\n",
        "# ------------------------------------------ Task 1.4: Training MLP --------------------------------------------------\n",
        "# --------------------------------------------------------------------------------------------------------------------"
      ],
      "metadata": {
        "id": "c7xpfa2S2o2c"
      },
      "execution_count": null,
      "outputs": []
    },
    {
      "cell_type": "code",
      "source": [
        "def update_parameters(W1, W2, b1, b2, d_loss_dW1, d_loss_dW2, d_loss_db1, d_loss_db2, learning_rate):\n",
        "    W1 -= learning_rate * d_loss_dW1\n",
        "    b1 -= learning_rate * d_loss_db1\n",
        "    W2 -= learning_rate * d_loss_dW2\n",
        "    b2 -= learning_rate * d_loss_db2\n",
        "    return W1, b1, W2, b2"
      ],
      "metadata": {
        "id": "Dz-Rf1Je2oyl"
      },
      "execution_count": null,
      "outputs": []
    },
    {
      "cell_type": "code",
      "source": [
        "def predict(X_test, y_test, W1, W2, b1, b2, activation_at_hidden):\n",
        "  z1, a1, z2, a2 = forward(X, W1, b1, W2, b2)\n",
        "  return cross_entropy(y_test, a2)"
      ],
      "metadata": {
        "id": "BgqCW3fvdjsm"
      },
      "execution_count": null,
      "outputs": []
    },
    {
      "cell_type": "code",
      "source": [
        "def train_MLP(X_train, y_train, X_test, y_test, hidden_units, num_classes, num_epochs, learning_rate, activation_at_hidden, batch_size=32):\n",
        "    np.random.seed(1065)\n",
        "    input_size = X_train.shape[1]\n",
        "    W1 = np.random.randn(input_size, hidden_units)\n",
        "    b1 = np.zeros((1, hidden_units))\n",
        "    W2 = np.random.randn(hidden_units, num_classes)\n",
        "    b2 = np.zeros((1, num_classes))\n",
        "    training_losses = []\n",
        "    testing_losses = []\n",
        "    epochs = []\n",
        "\n",
        "    if batch_size > len(X_train):\n",
        "        batch_size = len(X_train)\n",
        "\n",
        "    num_batches = len(X_train) // batch_size\n",
        "\n",
        "    for epoch in range(num_epochs):\n",
        "        for batch_idx in range(num_batches):\n",
        "            start_idx = batch_idx * batch_size\n",
        "            end_idx = (batch_idx + 1) * batch_size\n",
        "            X_batch = X_train[start_idx:end_idx]\n",
        "            y_batch = y_train[start_idx:end_idx]\n",
        "\n",
        "            z1, a1, z2, a2 = forward(X_batch, W1, W2, b1, b2, activation_at_hidden)\n",
        "            training_loss = cross_entropy(y_batch, a2)\n",
        "\n",
        "            d_loss_dW1, d_loss_dW2, d_loss_db1, d_loss_db2 = backward(X_batch, y_batch, W1, W2, b1, b2, a2, a1, z1, activation_at_hidden)\n",
        "            W1, b1, W2, b2 = update_parameters(W1, W2, b1, b2, d_loss_dW1, d_loss_dW2, d_loss_db1, d_loss_db2, learning_rate)\n",
        "\n",
        "        if epoch % 500 == 0:\n",
        "            z1, a1, z2, a2 = forward(X_train, W1, W2, b1, b2, activation_at_hidden)\n",
        "            training_loss = cross_entropy(y_train, a2)\n",
        "            z1, a1, z2, a2 = forward(X_test, W1, W2, b1, b2, activation_at_hidden)\n",
        "            testing_loss = cross_entropy(y_test, a2)\n",
        "            testing_losses.append(testing_loss)\n",
        "            training_losses.append(training_loss)\n",
        "            epochs.append(epoch)\n",
        "\n",
        "    return W1, b1, W2, b2, training_losses, testing_losses, epochs"
      ],
      "metadata": {
        "id": "xUOIe-wr2owj"
      },
      "execution_count": null,
      "outputs": []
    },
    {
      "cell_type": "code",
      "source": [
        "def one_hot_encode(y):\n",
        "    unique_values = np.unique(y)\n",
        "    num_classes = len(unique_values)\n",
        "    encoded_data = np.zeros((len(y), num_classes))\n",
        "    for i, value in enumerate(y):\n",
        "        index = np.where(unique_values == value)[0][0]\n",
        "        encoded_data[i, index] = 1\n",
        "    return encoded_data"
      ],
      "metadata": {
        "id": "7HUARlrZfUTF"
      },
      "execution_count": null,
      "outputs": []
    },
    {
      "cell_type": "code",
      "source": [
        "df = standardized_dataframe(df)\n",
        "train_set, test_set = train_test_split(df)\n",
        "X_train = train_set.drop(columns=['quality']).values\n",
        "y_train = one_hot_encode(train_set['quality'].values)\n",
        "X_test = test_set.drop(columns=['quality']).values\n",
        "y_test = one_hot_encode(test_set['quality'].values)"
      ],
      "metadata": {
        "colab": {
          "base_uri": "https://localhost:8080/"
        },
        "id": "DT4Af-szbEGh",
        "outputId": "97a54a79-92d4-49c1-f1a8-88571180ceb3"
      },
      "execution_count": null,
      "outputs": [
        {
          "output_type": "stream",
          "name": "stdout",
          "text": [
            "(1280, 11)\n"
          ]
        }
      ]
    },
    {
      "cell_type": "code",
      "source": [
        "hidden_units = 15\n",
        "num_classes = 6\n",
        "num_epochs = 10000\n",
        "learning_rate = 0.001\n",
        "activation_at_hidden = 'tanh'\n",
        "batch_size = 1280"
      ],
      "metadata": {
        "id": "830TE8VR2onb"
      },
      "execution_count": null,
      "outputs": []
    },
    {
      "cell_type": "code",
      "source": [
        "W1, b1, W2, b2, training_losses, testing_losses, epochs = train_MLP(X_train, y_train, X_test, y_test, hidden_units, num_classes, num_epochs, learning_rate, activation_at_hidden, batch_size)"
      ],
      "metadata": {
        "id": "IRsChUH02okZ"
      },
      "execution_count": null,
      "outputs": []
    },
    {
      "cell_type": "code",
      "source": [
        "def plot_training_and_test_error_with_epochs(epochs, training_losses, testing_losses):\n",
        "   plt.plot(epochs, training_losses, color='red', label = 'Training Error')\n",
        "   plt.plot(epochs, testing_losses, color='green', label ='Testing Error')\n",
        "   plt.xlabel('Epochs')\n",
        "   plt.ylabel('Error')\n",
        "   plt.title('Error vs Epochs')\n",
        "   plt.grid(True)\n",
        "   plt.legend()\n",
        "   plt.show()"
      ],
      "metadata": {
        "id": "S4MsbbGp2ohf"
      },
      "execution_count": null,
      "outputs": []
    },
    {
      "cell_type": "code",
      "source": [
        "plot_training_and_test_error_with_epochs(epochs, training_losses, testing_losses)"
      ],
      "metadata": {
        "id": "fjYUiFZCyGv2",
        "colab": {
          "base_uri": "https://localhost:8080/",
          "height": 472
        },
        "outputId": "6506b591-60cc-45f0-fd86-32623075d864"
      },
      "execution_count": null,
      "outputs": [
        {
          "output_type": "display_data",
          "data": {
            "text/plain": [
              "<Figure size 640x480 with 1 Axes>"
            ],
            "image/png": "[encoded data removed]"
          },
          "metadata": {}
        }
      ]
    },
    {
      "cell_type": "code",
      "source": [],
      "metadata": {
        "id": "JybX7UagI-RY"
      },
      "execution_count": null,
      "outputs": []
    },
    {
      "cell_type": "code",
      "source": [],
      "metadata": {
        "id": "NeCGrQJWI-N2"
      },
      "execution_count": null,
      "outputs": []
    },
    {
      "cell_type": "code",
      "source": [],
      "metadata": {
        "id": "B4MWrj98I-LG"
      },
      "execution_count": null,
      "outputs": []
    },
    {
      "cell_type": "code",
      "source": [],
      "metadata": {
        "id": "Oq9OyrEwI-IM"
      },
      "execution_count": null,
      "outputs": []
    },
    {
      "cell_type": "code",
      "source": [],
      "metadata": {
        "id": "d8fPsHqhI-FD"
      },
      "execution_count": null,
      "outputs": []
    },
    {
      "cell_type": "code",
      "source": [],
      "metadata": {
        "id": "ymri5IO7I-CL"
      },
      "execution_count": null,
      "outputs": []
    },
    {
      "cell_type": "code",
      "source": [],
      "metadata": {
        "id": "QuJVWRkQI9_E"
      },
      "execution_count": null,
      "outputs": []
    },
    {
      "cell_type": "code",
      "source": [],
      "metadata": {
        "id": "-lHrWM2JI98B"
      },
      "execution_count": null,
      "outputs": []
    },
    {
      "cell_type": "code",
      "source": [],
      "metadata": {
        "id": "5VDhLzRrI947"
      },
      "execution_count": null,
      "outputs": []
    },
    {
      "cell_type": "code",
      "source": [],
      "metadata": {
        "id": "MLUtxB2oI91q"
      },
      "execution_count": null,
      "outputs": []
    },
    {
      "cell_type": "markdown",
      "metadata": {
        "id": "kW85Ns3gR1r8"
      },
      "source": [
        "\n",
        "---\n",
        "\n",
        "\n",
        "\n",
        "Section 2:    Multi-class classification\n",
        " **(Total points = 40)**\n",
        "\n",
        "---\n",
        "**Description of Dataset:**\n",
        "\n",
        "*   The dataset consists of grayscale images portraying faces with dimensions of 48x48 pixels. The images have undergone automatic alignment to ensure that each face is approximately centered, maintaining a consistent amount of space in every image.\n",
        "*  The primary objective is to categorize each face based on the expressed emotion, assigning it to one of three categories: Happy (0), Sad (1), or Neutral (2). The training set encompasses 17,109 examples, while the public test set comprises 4,254 examples.\n",
        "\n",
        "\n",
        "**Tasks:**\n",
        "\n",
        "1. **Explore the Dataset:** Display three randomly selected images from each class to visually understand the dataset. Generate a distribution plot illustrating the number of images in each emotion class? Is the distribution uniform? Comment. **(5 points)**\n",
        "2. **Convolution:** Implement the 2D convolution function using a kernel size of 3x3. Use the sobel kernel and display the feature map for one example from each emotion class. For using sobel kernel, you need to calculate two convolutions, one for x-direction (x) and one for y-direction (y), the feature map then can be calculated as\n",
        "\n",
        "\n",
        " ![unnamed.png](data:image/png;base64,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)\n",
        "\n",
        "**(10 points)**\n",
        "\n",
        "3. **Implement Sequential CNN Model** : Utilize the Keras library to implement a sequential Convolutional Neural Network (CNN) model for facial emotion classification. Adopt the following network architecture for the CNN model:\n",
        "\n",
        "\n",
        "* Input layer\n",
        "* Con2D with 128 neurons 3x3 kernels and ReLU activation.\n",
        "* Con2D with 64 neurons 3x3 kernels and ReLU activation with batch normalization.\n",
        "* Max Pooling layer with pool-size 2x2 and padding as 'valid'.\n",
        "* Con2D with 16 neurons 3x3 kernels and ReLU activation and stride 2.\n",
        "* Con2D with 10 neurons 3x3 kernels and ReLU activation.\n",
        "* Max Pooling layer with pool-size 2x2 and padding as 'valid'.\n",
        "* Batch normalization\n",
        "* Fully Connected Dense Layer with 128 neurons , relu activation and L2 kernel regularizer with factor of 0.05.\n",
        "* Dropout of 30% ie. 0.3\n",
        "* Fully Connected Dense Layer with number of classes neurons and softmax activation.\n",
        "\n",
        "**(5 points)**\n",
        "\n",
        "4. **Training and Compiling:** Utilize cross-entropy loss for multi-class classification and proceed to compile and train the model employing four distinct optimizers: SGD, RMSprop, Adam, and Adagrad. Generate plots illustrating the training loss for each optimizer. Provide commentary on your observations. Additionally, incorporate early stopping with parameters (min_delta=0.01, patience=2) during both the compilation and training phases of your model. **(10 points)**\n",
        "\n",
        "\n",
        "**NOTE: You can try to find the best learning rate from the following: [0.001, 0.0001, 0.00001, 0.01] and take batch size to be 32 in data generators.**\n",
        "\n",
        "5. **Activation Maps:** Generate activation maps for two selected intermediate convolutional blocks across randomly chosen 10 images, state class-specific observations. **(10 points)**\n"
      ]
    },
    {
      "cell_type": "code",
      "execution_count": null,
      "metadata": {
        "id": "FDiIitjq1QMP"
      },
      "outputs": [],
      "source": [
        "#Write your code here\n"
      ]
    },
    {
      "cell_type": "code",
      "execution_count": null,
      "metadata": {
        "id": "oDNB4U9xPB4b"
      },
      "outputs": [],
      "source": [
        "#Write your code here"
      ]
    },
    {
      "cell_type": "code",
      "execution_count": null,
      "metadata": {
        "id": "Zr7HchTXPCAS"
      },
      "outputs": [],
      "source": [
        "#Write your code here"
      ]
    },
    {
      "cell_type": "code",
      "execution_count": null,
      "metadata": {
        "id": "8LWtssV2PCEn"
      },
      "outputs": [],
      "source": [
        "#Write your code here"
      ]
    },
    {
      "cell_type": "code",
      "execution_count": null,
      "metadata": {
        "id": "CbMhcItNPCH6"
      },
      "outputs": [],
      "source": [
        "#Write your code here"
      ]
    },
    {
      "cell_type": "markdown",
      "metadata": {
        "id": "LNJ_C9kfLk3Z"
      },
      "source": [
        "\n",
        "---\n",
        "\n",
        "\n",
        "\n",
        "Section 3:    Clustering  **(Total points = 15)**\n",
        "New Section\n",
        "---\n",
        "**Description of Dataset:**\n",
        "\n",
        "*   The dataset includes details about everything people bought from a UK-based online store over the span of eight months including productID, product descriptions and Country.\n",
        "*  Objective is to explore clustering approaches.\n",
        "\n",
        "\n",
        "Before implementing the clustering codes, you should perform data analysis part by performing following operations:\n",
        "\n",
        "1.   Visualize the top countries by total sales.\n",
        "2.   Visualize the product categories.\n",
        "2.   Check the column data types and missing values and handle it\n",
        "1.   Check the unique values in each column\n",
        "\n",
        "\n",
        "**Note: you are not allowed to use sklearn’s direct functions (or any in-built functions) for clustering. Write the code at your own.**\n",
        "\n",
        "\n",
        "Consider the following two features [Product_Count, 'Product_UnitPrice'] for the following tasks–\n",
        "1. **K-Means Clustering:** Implement the K-Means clustering algorithm on the online retail data. Determine the optimal number of clusters using appropriate methods. Interpret and discuss the results obtained from K-Means clustering. **(5 points)**\n",
        "\n",
        "2. **K-Medoids Clustering:** Apply the K-Medoids clustering algorithm to the same online retail data. Explain the differences between K-Means and K-Medoids algorithm results. Evaluate the effectiveness of K-Medoids in clustering the online retail data. **(5 points)**\n",
        "\n",
        "3. **DBSCAN Clustering:** Implement the DBSCAN clustering algorithm on the online retail dataset. Discuss the parameters used for DBSCAN and their impact on the results. Compare and contrast DBSCAN with K-Means and K-Medoids in the context of online retail data. **(5 points)**"
      ]
    },
    {
      "cell_type": "code",
      "execution_count": null,
      "metadata": {
        "id": "_MLtdW82PKTb"
      },
      "outputs": [],
      "source": [
        "import pandas as pd\n",
        "import numpy as np\n",
        "import matplotlib.pyplot as plt"
      ]
    },
    {
      "cell_type": "code",
      "execution_count": null,
      "metadata": {
        "id": "5rERXb71PKVx"
      },
      "outputs": [],
      "source": [
        "file_path = '/content/drive/My Drive/ML_Lab3_Dataset/Ecommerce.csv'\n",
        "df = pd.read_csv(file_path)"
      ]
    },
    {
      "cell_type": "code",
      "execution_count": null,
      "metadata": {
        "id": "lyPxDsLVeIsp"
      },
      "outputs": [],
      "source": [
        "# Considering the following two features [Product_Count, 'Product_UnitPrice'] for the following tasks\n",
        "columns = ['Product_Count', 'Product_UnitPrice']\n",
        "df = df[columns]"
      ]
    },
    {
      "cell_type": "code",
      "execution_count": null,
      "metadata": {
        "id": "sICpt75ZdCGD"
      },
      "outputs": [],
      "source": [
        "#------------------------------------------------------------------------------------------------------------------------\n",
        "#---------------------------------------------- K-Means Clustering ------------------------------------------------------\n",
        "# -----------------------------------------------------------------------------------------------------------------------"
      ]
    },
    {
      "cell_type": "code",
      "execution_count": null,
      "metadata": {
        "id": "mS4y9EmAdZjB"
      },
      "outputs": [],
      "source": [
        "def k_means(X, n_clusters = 3, max_iters = 100):\n",
        "    n_samples, n_features = X.shape\n",
        "    centroids = X[np.random.choice(n_samples, n_clusters, replace=False)]\n",
        "\n",
        "    for _ in range(max_iters):\n",
        "\n",
        "        distances = np.sqrt(((X - centroids[:, np.newaxis])**2).sum(axis=2))\n",
        "        labels = np.argmin(distances, axis=0)\n",
        "\n",
        "        new_centroids = np.array([X[labels == i].mean(axis=0) for i in range(n_clusters)])\n",
        "\n",
        "        if np.allclose(centroids, new_centroids):\n",
        "            break\n",
        "\n",
        "        centroids = new_centroids\n",
        "\n",
        "    return centroids, labels"
      ]
    },
    {
      "cell_type": "code",
      "execution_count": null,
      "metadata": {
        "id": "WmkR3bWgIZI5"
      },
      "outputs": [],
      "source": [
        "def compute_inertia(X, centroids, labels):\n",
        "    inertia = 0\n",
        "\n",
        "    for i in range(len(X)):\n",
        "        centroid_index = labels[i]\n",
        "        dist = np.linalg.norm(X[i] - centroids[centroid_index])**2\n",
        "        inertia += dist\n",
        "\n",
        "    return inertia"
      ]
    },
    {
      "cell_type": "code",
      "execution_count": null,
      "metadata": {
        "id": "P7P385UBJE2C"
      },
      "outputs": [],
      "source": [
        "def elbow_method(X, max_clusters):\n",
        "    wcss = [0] * max_clusters\n",
        "\n",
        "    for idx in range(20):\n",
        "      seed = idx\n",
        "      for k in range(1, max_clusters + 1):\n",
        "          centroids, labels = k_means(X, k)\n",
        "          wcss[k-1]+=compute_inertia(X, centroids, labels)\n",
        "\n",
        "    return wcss"
      ]
    },
    {
      "cell_type": "code",
      "execution_count": null,
      "metadata": {
        "id": "q8mep5hPKK-C"
      },
      "outputs": [],
      "source": [
        "def plot_wcss_against_k(wcss, k):\n",
        "    plt.plot(k, wcss, marker='o', linestyle='-')\n",
        "    plt.title('K vs wcss')\n",
        "    plt.xlabel('K')\n",
        "    plt.ylabel('wcss')\n",
        "    plt.grid(True)\n",
        "    plt.show()"
      ]
    },
    {
      "cell_type": "code",
      "execution_count": null,
      "metadata": {
        "id": "zd8v7l_1FZKP"
      },
      "outputs": [],
      "source": [
        "X = df.to_numpy()"
      ]
    },
    {
      "cell_type": "code",
      "execution_count": null,
      "metadata": {
        "colab": {
          "base_uri": "https://localhost:8080/"
        },
        "id": "uvtFEVrsFaXB",
        "outputId": "dfdd8937-2e2d-4fcd-89d9-b9b027932d98"
      },
      "outputs": [
        {
          "metadata": {
            "tags": null
          },
          "name": "stderr",
          "output_type": "stream",
          "text": [
            "<ipython-input-6-419e9d26d283>:10: RuntimeWarning: Mean of empty slice.\n",
            "  new_centroids = np.array([X[labels == i].mean(axis=0) for i in range(n_clusters)])\n",
            "/usr/local/lib/python3.10/dist-packages/numpy/core/_methods.py:121: RuntimeWarning: invalid value encountered in divide\n",
            "  ret = um.true_divide(\n"
          ]
        }
      ],
      "source": [
        "max_clusters = 10\n",
        "wcss = elbow_method(X, max_clusters)"
      ]
    },
    {
      "cell_type": "code",
      "execution_count": null,
      "metadata": {
        "colab": {
          "base_uri": "https://localhost:8080/",
          "height": 472
        },
        "id": "JsPU8t2gFaaD",
        "outputId": "81abc38d-72a3-4c03-8475-c1fd71189503"
      },
      "outputs": [
        {
          "output_type": "display_data",
          "data": {
            "text/plain": [
              "<Figure size 640x480 with 1 Axes>"
            ],
            "image/png": "[encoded data removed]"
          },
          "metadata": {}
        }
      ],
      "source": [
        "k = range(1, len(wcss) + 1)\n",
        "plot_wcss_against_k(wcss, k)"
      ]
    },
    {
      "cell_type": "code",
      "execution_count": null,
      "metadata": {
        "colab": {
          "base_uri": "https://localhost:8080/",
          "height": 35
        },
        "id": "DEzblDCwFadB",
        "outputId": "287aa64e-7010-4485-e24b-2c579188d6f8"
      },
      "outputs": [
        {
          "output_type": "execute_result",
          "data": {
            "text/plain": [
              "'\\nResults and Observation from K - means clustering:\\n\\n'"
            ],
            "application/vnd.google.colaboratory.intrinsic+json": {
              "type": "string"
            }
          },
          "metadata": {},
          "execution_count": 13
        }
      ],
      "source": [
        "'''\n",
        "Results and Observation:\n",
        "\n",
        "The optimal number of clusters is 5, as beyond this point, there is no notable reduction in WCSS (according to the elbow method).\n",
        "\n",
        "\n",
        "'''"
      ]
    },
    {
      "cell_type": "code",
      "execution_count": null,
      "metadata": {
        "id": "cfkPNUZyFagX"
      },
      "outputs": [],
      "source": [
        "#------------------------------------------------------------------------------------------------------------------------\n",
        "#---------------------------------------------- K- Medoids Clustering ---------------------------------------------------\n",
        "# -----------------------------------------------------------------------------------------------------------------------"
      ]
    },
    {
      "cell_type": "code",
      "execution_count": null,
      "metadata": {
        "id": "0444--ygMGVz"
      },
      "outputs": [],
      "source": []
    },
    {
      "cell_type": "code",
      "execution_count": null,
      "metadata": {
        "id": "HrtM0LKxMGSH"
      },
      "outputs": [],
      "source": []
    },
    {
      "cell_type": "code",
      "execution_count": null,
      "metadata": {
        "id": "TD9aivGXMGPi"
      },
      "outputs": [],
      "source": []
    },
    {
      "cell_type": "code",
      "execution_count": null,
      "metadata": {
        "id": "6oomYydGMGMe"
      },
      "outputs": [],
      "source": []
    },
    {
      "cell_type": "code",
      "execution_count": null,
      "metadata": {
        "id": "KZ8X_GYdMGJ1"
      },
      "outputs": [],
      "source": []
    },
    {
      "cell_type": "code",
      "execution_count": null,
      "metadata": {
        "id": "a0KIpSmHMGG1"
      },
      "outputs": [],
      "source": []
    },
    {
      "cell_type": "code",
      "execution_count": null,
      "metadata": {
        "id": "nLdLlF8dMGD_"
      },
      "outputs": [],
      "source": []
    },
    {
      "cell_type": "code",
      "execution_count": null,
      "metadata": {
        "id": "p_CL0L0WMGBM"
      },
      "outputs": [],
      "source": []
    },
    {
      "cell_type": "code",
      "execution_count": null,
      "metadata": {
        "id": "J0Hz6ltAMF-c"
      },
      "outputs": [],
      "source": []
    },
    {
      "cell_type": "code",
      "execution_count": null,
      "metadata": {
        "id": "b-eOBojcMF7w"
      },
      "outputs": [],
      "source": []
    },
    {
      "cell_type": "code",
      "execution_count": null,
      "metadata": {
        "id": "kGloiLEOMF5H"
      },
      "outputs": [],
      "source": []
    },
    {
      "cell_type": "code",
      "execution_count": null,
      "metadata": {
        "id": "T5QhNxayMF2J"
      },
      "outputs": [],
      "source": []
    },
    {
      "cell_type": "code",
      "execution_count": null,
      "metadata": {
        "id": "6BRqG4frMFzI"
      },
      "outputs": [],
      "source": []
    },
    {
      "cell_type": "code",
      "execution_count": null,
      "metadata": {
        "id": "I74TuzNQMFgr"
      },
      "outputs": [],
      "source": []
    },
    {
      "cell_type": "code",
      "execution_count": null,
      "metadata": {
        "id": "vRHr6jugMFdP"
      },
      "outputs": [],
      "source": []
    },
    {
      "cell_type": "code",
      "execution_count": null,
      "metadata": {
        "id": "ajsGgxvNMFZY"
      },
      "outputs": [],
      "source": []
    },
    {
      "cell_type": "code",
      "execution_count": null,
      "metadata": {
        "id": "esMDQ8VpMFWh"
      },
      "outputs": [],
      "source": []
    },
    {
      "cell_type": "code",
      "execution_count": null,
      "metadata": {
        "id": "QeRuGIPbFajP"
      },
      "outputs": [],
      "source": [
        "#------------------------------------------------------------------------------------------------------------------------\n",
        "#----------------------------------------------- DBSCAN Clustering ------------------------------------------------------\n",
        "# -----------------------------------------------------------------------------------------------------------------------"
      ]
    },
    {
      "cell_type": "code",
      "execution_count": null,
      "metadata": {
        "id": "aS0V29lWFams"
      },
      "outputs": [],
      "source": []
    }
  ],
  "metadata": {
    "colab": {
      "provenance": []
    },
    "kernelspec": {
      "display_name": "Python 3 (ipykernel)",
      "language": "python",
      "name": "python3"
    },
    "language_info": {
      "codemirror_mode": {
        "name": "ipython",
        "version": 3
      },
      "file_extension": ".py",
      "mimetype": "text/x-python",
      "name": "python",
      "nbconvert_exporter": "python",
      "pygments_lexer": "ipython3",
      "version": "3.9.18"
    }
  },
  "nbformat": 4,
  "nbformat_minor": 0
}