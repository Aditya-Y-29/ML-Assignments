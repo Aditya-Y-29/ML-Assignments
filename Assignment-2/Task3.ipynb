{
 "cells": [
  {
   "cell_type": "code",
   "execution_count": 147,
   "id": "f1090ff1-f033-4b04-8be7-47f7a0f2fed4",
   "metadata": {},
   "outputs": [],
   "source": [
    "import pandas as pd\n",
    "import numpy as np\n",
    "import matplotlib.pyplot as plt"
   ]
  },
  {
   "cell_type": "code",
   "execution_count": 148,
   "id": "2b9b9b76-d82d-4387-91cc-569c67e0d31d",
   "metadata": {},
   "outputs": [],
   "source": [
    "pd.set_option('future.no_silent_downcasting', True)"
   ]
  },
  {
   "cell_type": "code",
   "execution_count": 149,
   "id": "a8e454b3-a29d-4cf7-8eed-6f4be93df23a",
   "metadata": {},
   "outputs": [],
   "source": [
    "df = pd.read_csv('bank_data.csv')"
   ]
  },
  {
   "cell_type": "code",
   "execution_count": 150,
   "id": "103dd71c-71d4-42e2-b462-4217fb79211b",
   "metadata": {},
   "outputs": [],
   "source": [
    "df['y'] = df['y'].replace({'no': 0, 'yes': 1})"
   ]
  },
  {
   "cell_type": "code",
   "execution_count": 151,
   "id": "3f0b6855-b430-410a-b335-31697ad4d25f",
   "metadata": {},
   "outputs": [],
   "source": [
    "class Node:\n",
    "    def __init__(self, feature=None, threshold=None, left=None, right=None, value=None):\n",
    "        self.feature = feature      \n",
    "        self.threshold = threshold  \n",
    "        self.left = left           \n",
    "        self.right = right          \n",
    "        self.value = value       "
   ]
  },
  {
   "cell_type": "code",
   "execution_count": 152,
   "id": "61fc0610-e409-48d2-a49f-9294b21f6d06",
   "metadata": {},
   "outputs": [],
   "source": [
    "def fit(X, y):\n",
    "    root = fit_tree(X, y)\n",
    "    return root\n",
    "\n",
    "def fit_tree(X, y, depth=0):\n",
    "        rows, columns = X.shape\n",
    "        num_samples_per_class = [np.sum(y == i) for i in range(num_classes)]\n",
    "        most_common_class = np.argmax(num_samples_per_class)\n",
    "        \n",
    "        if len(np.unique(y)) == 1 or depth == max_depth:\n",
    "            return Node(value=most_common_class)\n",
    "        \n",
    "        best_gain = -1\n",
    "        best_feature = None\n",
    "        best_threshold = None\n",
    "        for feature_name in X.columns:\n",
    "            feature_values = np.unique(X[feature_name])\n",
    "            \n",
    "            if len(feature_values) == 1: \n",
    "                continue\n",
    "                \n",
    "            for value in feature_values:\n",
    "                left_indices = X.index[X[feature_name] == value]\n",
    "                right_indices = X.index[X[feature_name] != value]\n",
    "                left_entropy = calculate_entropy(y[left_indices])\n",
    "                right_entropy = calculate_entropy(y[right_indices])\n",
    "                entropy = (len(left_indices) / rows) * left_entropy + (len(right_indices) / rows) * right_entropy\n",
    "                       \n",
    "                gain = calculate_information_gain(calculate_entropy(y), entropy)\n",
    "                if gain > best_gain:\n",
    "                    best_gain = gain\n",
    "                    best_feature = feature_name\n",
    "                    best_threshold = value\n",
    "        \n",
    "        if best_gain == 0:  \n",
    "            return Node(value=most_common_class)\n",
    "        \n",
    "        left_indices = X.index[X[best_feature] == best_threshold]\n",
    "        right_indices = X.index[X[best_feature] != best_threshold]\n",
    "        \n",
    "        left_child = fit_tree(X.loc[left_indices], y.loc[left_indices], depth + 1)\n",
    "        right_child = fit_tree(X.loc[right_indices], y.loc[right_indices], depth + 1)\n",
    "        \n",
    "        return Node(feature=best_feature, threshold=best_threshold, left=left_child, right=right_child)\n",
    "\n",
    "def calculate_entropy(y):\n",
    "    if len(y) == 0:\n",
    "        return 0\n",
    "    num_samples = len(y)\n",
    "    num_samples_per_class = [np.sum(y == i) for i in range(num_classes)]\n",
    "    class_probabilities = [num_samples_i / num_samples for num_samples_i in num_samples_per_class]\n",
    "    entropy = -sum(p * np.log2(p) for p in class_probabilities if p != 0)\n",
    "    return entropy\n",
    "\n",
    "def calculate_information_gain(parent_entropy, children_entropy):\n",
    "    return parent_entropy - children_entropy\n",
    "\n",
    "def predict_X(root, X):\n",
    "    return np.array([predict_x(x, root) for _, x in X.iterrows()])\n",
    "\n",
    "def predict_x(x, node):\n",
    "    if node.value is not None:\n",
    "        return node.value\n",
    "    if x[node.feature] == node.threshold:\n",
    "        return predict_x(x, node.left)\n",
    "    else:\n",
    "        return predict_x(x, node.right)"
   ]
  },
  {
   "cell_type": "code",
   "execution_count": 153,
   "id": "dc39ff84-33ee-484b-b175-a2abc4f9b55e",
   "metadata": {},
   "outputs": [],
   "source": [
    "def split_into_training_and_testing(X, y, test_size = 0.2, random_state = 42):\n",
    "    n_samples = len(X)\n",
    "    indices = np.arange(n_samples)\n",
    "    np.random.shuffle(indices)\n",
    "    n_test_samples = int(test_size * n_samples)\n",
    "    test_indices = indices[:n_test_samples]\n",
    "    train_indices = indices[n_test_samples:]\n",
    "    X_train, X_test = X.iloc[train_indices], X.iloc[test_indices]\n",
    "    y_train, y_test = y[train_indices], y[test_indices]\n",
    "    return X_train, X_test, y_train, y_test"
   ]
  },
  {
   "cell_type": "code",
   "execution_count": 154,
   "id": "f7fb29fd-faf5-40a6-aa3a-43d819d81929",
   "metadata": {},
   "outputs": [],
   "source": [
    "def accuracy_score(y_pred, y_true):\n",
    "    accuracy = len(y_pred)\n",
    "    for i in range(len(y_pred)):\n",
    "        if y_pred.iloc[i]!=y_true[i]:\n",
    "            accuracy-=1\n",
    "    return accuracy/len(y_pred)"
   ]
  },
  {
   "cell_type": "code",
   "execution_count": 155,
   "id": "80cd26e9-4d57-4d94-8739-5f837f13ccc4",
   "metadata": {},
   "outputs": [],
   "source": [
    "X = df.drop(columns=['y']) \n",
    "y = df['y'] \n",
    "\n",
    "X_train, X_test, y_train, y_test = split_into_training_and_testing(X, y, test_size = 0.2, random_state = 1065)"
   ]
  },
  {
   "cell_type": "code",
   "execution_count": 156,
   "id": "1d8cb4f7-edc5-4cb8-9978-84f537b07a80",
   "metadata": {},
   "outputs": [],
   "source": [
    "heights = []\n",
    "training_accuracies = []\n",
    "testing_accuracies = []\n",
    "\n",
    "for i in range(1, 5):\n",
    "\n",
    "    heights.append(i)\n",
    "    max_depth = i\n",
    "    num_classes = len(np.unique(y_train))\n",
    "\n",
    "    root = fit(X_train, y_train)\n",
    "    \n",
    "    y_pred_train = predict_X(root, X_train)\n",
    "    training_accuracy = accuracy_score(y_train, y_pred_train)\n",
    "    \n",
    "    y_pred_test = predict_X(root, X_test)\n",
    "    testing_accuracy = accuracy_score(y_test, y_pred_test)\n",
    "\n",
    "    training_accuracies.append(training_accuracy)\n",
    "    testing_accuracies.append(testing_accuracy)"
   ]
  },
  {
   "cell_type": "code",
   "execution_count": 157,
   "id": "1dc04f63-8c3e-4624-b392-f771de260a10",
   "metadata": {},
   "outputs": [],
   "source": [
    "def plot_training_and_test_accuracy(heights, training_accuracies, testing_accuracies):\n",
    "    plt.plot(heights, training_accuracies, color='green', label='Training accuracy')\n",
    "    plt.plot(heights, testing_accuracies, color='yellow', label='Testing accuracy')\n",
    "    plt.xlabel('Height')\n",
    "    plt.ylabel('Accuracy Score')\n",
    "    plt.title('Accuracy score vs Height')\n",
    "    plt.legend()\n",
    "    plt.grid(True)\n",
    "    plt.show()"
   ]
  },
  {
   "cell_type": "code",
   "execution_count": 158,
   "id": "31e31a43-dd78-4bd2-996d-f3c1a855daf2",
   "metadata": {},
   "outputs": [
    {
     "data": {
      "image/png": "[encoded data removed]",
      "text/plain": [
       "<Figure size 640x480 with 1 Axes>"
      ]
     },
     "metadata": {},
     "output_type": "display_data"
    }
   ],
   "source": [
    "plot_training_and_test_accuracy(heights, training_accuracies, testing_accuracies)"
   ]
  },
  {
   "cell_type": "code",
   "execution_count": 159,
   "id": "74888df7-8178-46c5-80de-c93c34d7101a",
   "metadata": {},
   "outputs": [],
   "source": [
    "# --------------------------------------------------------------------------------------------------------------\n",
    "# --------------------------------------------------------------------------------------------------------------\n",
    "# --------------------------------------------------------------------------------------------------------------\n",
    "# --------------------------------------------------------------------------------------------------------------\n",
    "# --------------------------------------------------------------------------------------------------------------"
   ]
  },
  {
   "cell_type": "code",
   "execution_count": 160,
   "id": "d48bf639-f5e7-4123-8978-5f9bf356bd56",
   "metadata": {},
   "outputs": [],
   "source": [
    "def fit_gradient_boosting_decision_trees(X, y, num_iterations, learning_rate):\n",
    "    trees =[]\n",
    "    residuals = y.copy()\n",
    "    for _ in range(num_iterations):\n",
    "        root = fit(X, residuals)\n",
    "        predictions = predict_X(root, X)\n",
    "        residuals -= learning_rate * predictions\n",
    "        trees.append(root)\n",
    "    return trees\n",
    "\n",
    "def predict(X, trees, learning_rate):\n",
    "    predictions = np.zeros(len(X))\n",
    "    for root in trees:\n",
    "        predictions += learning_rate * predict_X(root, X)\n",
    "    proba = 1 / (1 + np.exp(-predictions))\n",
    "    return (proba > 0.5).astype(int)"
   ]
  },
  {
   "cell_type": "code",
   "execution_count": 161,
   "id": "d8efc83e-1033-4c7a-8293-12345a8cae3d",
   "metadata": {},
   "outputs": [
    {
     "name": "stdout",
     "output_type": "stream",
     "text": [
      "0.8977052806192978\n",
      "0.8904867256637168\n"
     ]
    }
   ],
   "source": [
    "X = df.drop(columns=['y']) \n",
    "y = df['y'] \n",
    "\n",
    "X_train, X_test, y_train, y_test = split_into_training_and_testing(X, y, test_size = 0.2, random_state = 1065)\n",
    "\n",
    "max_depth = 4\n",
    "num_terations = 10\n",
    "learning_rate = 0.1\n",
    "trees = fit_gradient_boosting_decision_trees(X_train, y_train, num_terations, learning_rate)\n",
    "\n",
    "y_pred_train = predict(X_train, trees, learning_rate)\n",
    "training_accuracy = accuracy_score(y_train, y_pred_train)\n",
    "\n",
    "y_pred_test = predict(X_test, trees, learning_rate)\n",
    "testing_accuracy = accuracy_score(y_test, y_pred_test)\n",
    "\n",
    "print(training_accuracy)\n",
    "print(testing_accuracy)"
   ]
  }
 ],
 "metadata": {
  "kernelspec": {
   "display_name": "Python 3 (ipykernel)",
   "language": "python",
   "name": "python3"
  },
  "language_info": {
   "codemirror_mode": {
    "name": "ipython",
    "version": 3
   },
   "file_extension": ".py",
   "mimetype": "text/x-python",
   "name": "python",
   "nbconvert_exporter": "python",
   "pygments_lexer": "ipython3",
   "version": "3.10.12"
  }
 },
 "nbformat": 4,
 "nbformat_minor": 5
}
